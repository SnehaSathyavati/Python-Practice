{
 "cells": [
  {
   "cell_type": "code",
   "execution_count": 2,
   "id": "4340e765",
   "metadata": {},
   "outputs": [
    {
     "name": "stdout",
     "output_type": "stream",
     "text": [
      "[1 2 3 4 5]\n"
     ]
    }
   ],
   "source": [
    "import numpy as np\n",
    "n = np.array([1,2,3,4,5])\n",
    "print(n)"
   ]
  },
  {
   "cell_type": "code",
   "execution_count": 7,
   "id": "4307c012",
   "metadata": {},
   "outputs": [
    {
     "name": "stdout",
     "output_type": "stream",
     "text": [
      "[[2 3]\n",
      " [4 5]]\n"
     ]
    },
    {
     "data": {
      "text/plain": [
       "(2, 2)"
      ]
     },
     "execution_count": 7,
     "metadata": {},
     "output_type": "execute_result"
    }
   ],
   "source": [
    "n = np.array([[2,3],[4,5]])\n",
    "print(n)\n",
    "n.shape"
   ]
  },
  {
   "cell_type": "code",
   "execution_count": 10,
   "id": "3ca0daf5",
   "metadata": {},
   "outputs": [
    {
     "data": {
      "text/plain": [
       "array([[2, 3],\n",
       "       [5, 4],\n",
       "       [5, 1]])"
      ]
     },
     "execution_count": 10,
     "metadata": {},
     "output_type": "execute_result"
    }
   ],
   "source": [
    "n = np.array([[2,3,5],[4,5,1]])\n",
    "n.reshape([3,2])"
   ]
  },
  {
   "cell_type": "code",
   "execution_count": 11,
   "id": "a2ce676b",
   "metadata": {},
   "outputs": [
    {
     "data": {
      "text/plain": [
       "array([2, 3, 5, 4, 5, 1])"
      ]
     },
     "execution_count": 11,
     "metadata": {},
     "output_type": "execute_result"
    }
   ],
   "source": [
    "n.ravel()"
   ]
  },
  {
   "cell_type": "code",
   "execution_count": 12,
   "id": "274d062d",
   "metadata": {},
   "outputs": [
    {
     "name": "stdout",
     "output_type": "stream",
     "text": [
      "[[2 3 5]\n",
      " [4 5 1]]\n"
     ]
    }
   ],
   "source": [
    "print(n)"
   ]
  },
  {
   "cell_type": "code",
   "execution_count": 19,
   "id": "7bc17f75",
   "metadata": {},
   "outputs": [
    {
     "ename": "SyntaxError",
     "evalue": "invalid syntax (295468894.py, line 3)",
     "output_type": "error",
     "traceback": [
      "\u001b[0;36m  Cell \u001b[0;32mIn[19], line 3\u001b[0;36m\u001b[0m\n\u001b[0;31m    sum(n,p) axis=0\u001b[0m\n\u001b[0m             ^\u001b[0m\n\u001b[0;31mSyntaxError\u001b[0m\u001b[0;31m:\u001b[0m invalid syntax\n"
     ]
    }
   ],
   "source": [
    "n = np.array([[2,3,5],[4,5,1]])\n",
    "p = np.array([[9,8,7],[5,4,2]])\n",
    "#sum(n,p) (axis=0)\n",
    "n+p"
   ]
  },
  {
   "cell_type": "code",
   "execution_count": 20,
   "id": "d4e752e8",
   "metadata": {},
   "outputs": [
    {
     "data": {
      "text/plain": [
       "array([[0., 0.],\n",
       "       [0., 0.],\n",
       "       [0., 0.]])"
      ]
     },
     "execution_count": 20,
     "metadata": {},
     "output_type": "execute_result"
    }
   ],
   "source": [
    "np.zeros((3,2))"
   ]
  },
  {
   "cell_type": "code",
   "execution_count": 21,
   "id": "64c17460",
   "metadata": {},
   "outputs": [
    {
     "name": "stdout",
     "output_type": "stream",
     "text": [
      "[1 2 3 4 5]\n",
      "['a' 'b' 'c']\n",
      "1\n",
      "1\n"
     ]
    }
   ],
   "source": [
    "# 3 dec\n",
    "import numpy as np\n",
    "n1 = np.array([1,2,3,4,5])\n",
    "n2 = np.array([\"a\",\"b\",\"c\"])\n",
    "print(n1)\n",
    "print(n2)\n",
    "print(n1.ndim)\n",
    "print(n2.ndim)"
   ]
  },
  {
   "cell_type": "code",
   "execution_count": 22,
   "id": "7be3d686",
   "metadata": {},
   "outputs": [
    {
     "name": "stdout",
     "output_type": "stream",
     "text": [
      "0\n"
     ]
    }
   ],
   "source": [
    "n3 = np.array(34)\n",
    "print(n3.ndim)"
   ]
  },
  {
   "cell_type": "code",
   "execution_count": 23,
   "id": "8631d0b4",
   "metadata": {},
   "outputs": [
    {
     "data": {
      "text/plain": [
       "15"
      ]
     },
     "execution_count": 23,
     "metadata": {},
     "output_type": "execute_result"
    }
   ],
   "source": [
    "n1 = np.array([1,2,3,4,5])\n",
    "n2 = np.array([5,6,7,8])\n",
    "n1.sum()"
   ]
  },
  {
   "cell_type": "code",
   "execution_count": 24,
   "id": "e6b39e18",
   "metadata": {},
   "outputs": [
    {
     "name": "stdout",
     "output_type": "stream",
     "text": [
      "[[1 2]\n",
      " [3 4]\n",
      " [5 6]]\n",
      "[[3 4]\n",
      " [6 7]\n",
      " [3 6]]\n"
     ]
    },
    {
     "data": {
      "text/plain": [
       "array([[ 4,  6],\n",
       "       [ 9, 11],\n",
       "       [ 8, 12]])"
      ]
     },
     "execution_count": 24,
     "metadata": {},
     "output_type": "execute_result"
    }
   ],
   "source": [
    "a1 = np.array([[1,2],[3,4],[5,6]])\n",
    "print(a1)\n",
    "a2 = np.array([[3,4],[6,7],[3,6]])\n",
    "print(a2)\n",
    "a1+a2"
   ]
  },
  {
   "cell_type": "code",
   "execution_count": 25,
   "id": "96c1acfb",
   "metadata": {},
   "outputs": [
    {
     "data": {
      "text/plain": [
       "array([ 3,  7, 11])"
      ]
     },
     "execution_count": 25,
     "metadata": {},
     "output_type": "execute_result"
    }
   ],
   "source": [
    "a1.sum(axis=1)"
   ]
  },
  {
   "cell_type": "code",
   "execution_count": 26,
   "id": "6194be42",
   "metadata": {},
   "outputs": [
    {
     "name": "stdout",
     "output_type": "stream",
     "text": [
      "[]\n"
     ]
    }
   ],
   "source": [
    "n9 = np.array([[1,2,3],[3,4,7]])\n",
    "print(n9[0,1:1])"
   ]
  },
  {
   "cell_type": "code",
   "execution_count": 27,
   "id": "9143150b",
   "metadata": {},
   "outputs": [
    {
     "name": "stdout",
     "output_type": "stream",
     "text": [
      "[[1 2 3]\n",
      " [3 4 7]]\n",
      "2\n",
      "(2, 3)\n"
     ]
    }
   ],
   "source": [
    "print(n9)\n",
    "print(n9.ndim)\n",
    "print(n9.shape)    #(x,y,z)"
   ]
  },
  {
   "cell_type": "code",
   "execution_count": 28,
   "id": "3845c407",
   "metadata": {},
   "outputs": [
    {
     "name": "stdout",
     "output_type": "stream",
     "text": [
      "int64\n",
      "<class 'numpy.ndarray'>\n"
     ]
    }
   ],
   "source": [
    "n1 = np.array([1,2,3])\n",
    "print(n1.dtype)\n",
    "print(type(n1))"
   ]
  },
  {
   "cell_type": "code",
   "execution_count": 29,
   "id": "40961ce7",
   "metadata": {},
   "outputs": [
    {
     "name": "stdout",
     "output_type": "stream",
     "text": [
      "3\n"
     ]
    }
   ],
   "source": [
    "print(n1.size)"
   ]
  },
  {
   "cell_type": "code",
   "execution_count": 30,
   "id": "2a19f04e",
   "metadata": {},
   "outputs": [
    {
     "name": "stdout",
     "output_type": "stream",
     "text": [
      "<U3\n"
     ]
    }
   ],
   "source": [
    "n2 = np.array([\"tob\",\"bob\",\"tom\",\"mom\"])\n",
    "print(n2.dtype)"
   ]
  },
  {
   "cell_type": "code",
   "execution_count": 31,
   "id": "f4d0a246",
   "metadata": {},
   "outputs": [
    {
     "name": "stdout",
     "output_type": "stream",
     "text": [
      "int64\n",
      "<U3\n",
      "float64\n",
      "<class 'numpy.ndarray'>\n",
      "<class 'numpy.ndarray'>\n",
      "<class 'numpy.ndarray'>\n",
      "[1 4 2] ['tob' 'bob' 'tom'] [1. 2. 3.]\n"
     ]
    }
   ],
   "source": [
    "a = np.array([1.3,4.5,2.2], dtype=int)\n",
    "b = np.array([\"tob\",\"bob\",\"tom\"])\n",
    "c = np.array([1,2,3],dtype=float)\n",
    "print(a.dtype)\n",
    "print(b.dtype)\n",
    "print(c.dtype)\n",
    "print(type(a))\n",
    "print(type(b))\n",
    "print(type(c))\n",
    "print(a,b,c)"
   ]
  },
  {
   "cell_type": "markdown",
   "id": "011dc005",
   "metadata": {},
   "source": [
    "## 3rd dec"
   ]
  },
  {
   "cell_type": "code",
   "execution_count": 105,
   "id": "08d9a2cd",
   "metadata": {},
   "outputs": [
    {
     "name": "stdout",
     "output_type": "stream",
     "text": [
      "1\n",
      "2\n",
      "3\n",
      "4\n",
      "5\n",
      "6\n",
      "[array([1, 2]), array([3, 4]), array([5, 6])]\n",
      "[1 2]\n",
      "[3 4]\n",
      "[5 6]\n",
      "Splitting the 1d array\n",
      "[1 2]\n",
      "[3 4]\n"
     ]
    }
   ],
   "source": [
    "import numpy as np\n",
    "\n",
    "# split numpy array\n",
    "# for 1d array\n",
    "n = np.array([1,2,3,4,5,6])\n",
    "for i in n:\n",
    "    print(i)\n",
    "   \n",
    "rp = np.array_split(n,3)\n",
    "print(rp)\n",
    "for i in rp:\n",
    "    print(i)\n",
    "    \n",
    "    \n",
    "print(\"Splitting the 1d array\")    \n",
    "print(rp[0])\n",
    "print(rp[1])"
   ]
  },
  {
   "cell_type": "code",
   "execution_count": 103,
   "id": "7a71e0af",
   "metadata": {},
   "outputs": [
    {
     "name": "stdout",
     "output_type": "stream",
     "text": [
      "[1 2 3]\n",
      "[4 5 6]\n",
      "[3 5 4]\n",
      "[array([[1, 2, 3]]), array([[4, 5, 6]]), array([[3, 5, 4]])]\n",
      "Splitting the 2d array\n",
      "[[1 2 3]]\n",
      "[[4 5 6]]\n"
     ]
    }
   ],
   "source": [
    "# split numpy array\n",
    "# for 1d array\n",
    "n1 = np.array([[1,2,3],[4,5,6],[3,5,4]])\n",
    "for i in n1:\n",
    "    print(i)\n",
    "\n",
    "rp = np.array_split(n1,3)\n",
    "print(rp)\n",
    "    \n",
    "    \n",
    "print(\"Splitting the 2d array\")    \n",
    "print(rp[0])\n",
    "print(rp[1])"
   ]
  },
  {
   "cell_type": "code",
   "execution_count": 108,
   "id": "003fa9af",
   "metadata": {},
   "outputs": [
    {
     "name": "stdout",
     "output_type": "stream",
     "text": [
      "10\n",
      "20\n",
      "30\n",
      "40\n",
      "50\n",
      "60\n",
      "30\n",
      "(array([4]),)\n"
     ]
    }
   ],
   "source": [
    "# Search a numpy array for a value\n",
    "# numpy.where() method\n",
    "n2 = np.array([10,20,30,40,50,60,30])\n",
    "for i in n2:\n",
    "    print(i)\n",
    "    \n",
    "rp = np.where(n2 == 50.0)       #(array([2, 6]),) dtype shd come but is missing\n",
    "print(rp)                     # comes when rp = np.where(n == 30)"
   ]
  },
  {
   "cell_type": "code",
   "execution_count": 49,
   "id": "4d2b6643",
   "metadata": {},
   "outputs": [
    {
     "name": "stdout",
     "output_type": "stream",
     "text": [
      "13\n",
      "54\n",
      "75\n",
      "34\n",
      "97\n",
      "43\n",
      "11\n",
      "56\n",
      "73\n",
      "83\n",
      "53\n",
      "[11 13 34 43 53 54 56 73 75 83 97]\n"
     ]
    }
   ],
   "source": [
    "# Sorting numpy arrays\n",
    "# np.sort() function\n",
    "\n",
    "n3 = np.array([13,54,75,34,97,43,11,56,73,83,53])\n",
    "for i in n3:\n",
    "    print(i)\n",
    "    \n",
    "rp = np.sort(n3)\n",
    "print(rp)"
   ]
  },
  {
   "cell_type": "code",
   "execution_count": 51,
   "id": "c4fe17b0",
   "metadata": {},
   "outputs": [
    {
     "name": "stdout",
     "output_type": "stream",
     "text": [
      "Keras\n",
      "Android\n",
      "Tensorflow\n",
      "Pandas\n",
      "['Android' 'Keras' 'Pandas' 'Tensorflow']\n"
     ]
    }
   ],
   "source": [
    "# np.sort() function\n",
    "# for 1d array\n",
    "n4 = np.array([\"Keras\",\"Android\",\"Tensorflow\",\"Pandas\"])\n",
    "for i in n4:\n",
    "    print(i)\n",
    "    \n",
    "rp = np.sort(n4)\n",
    "print(rp)"
   ]
  },
  {
   "cell_type": "code",
   "execution_count": 53,
   "id": "f3d001bc",
   "metadata": {},
   "outputs": [
    {
     "name": "stdout",
     "output_type": "stream",
     "text": [
      "[6 3 4 1 2]\n",
      "[7 8 3 5 2]\n",
      "[[1 2 3 4 6]\n",
      " [2 3 5 7 8]]\n"
     ]
    }
   ],
   "source": [
    "# np.sort() function\n",
    "# for 2d array\n",
    "n5 = np.array([[6,3,4,1,2],[7,8,3,5,2]])\n",
    "for i in n5:\n",
    "    print(i)\n",
    "    \n",
    "rp = np.sort(n5)\n",
    "print(rp)"
   ]
  },
  {
   "cell_type": "code",
   "execution_count": 109,
   "id": "2d59ae55",
   "metadata": {},
   "outputs": [
    {
     "name": "stdout",
     "output_type": "stream",
     "text": [
      "[[4 5 2 6 7]\n",
      " [2 4 2 6 6]\n",
      " [9 4 5 2 6]]\n"
     ]
    },
    {
     "data": {
      "text/plain": [
       "9"
      ]
     },
     "execution_count": 109,
     "metadata": {},
     "output_type": "execute_result"
    }
   ],
   "source": [
    "# Axes in numpy\n",
    "n6 = np.array([[4,5,2,6,7],[2,4,2,6,6],[9,4,5,2,6]])        # Confusion\n",
    "print(n6)\n",
    "n6.max()"
   ]
  },
  {
   "cell_type": "code",
   "execution_count": 89,
   "id": "a9175afd",
   "metadata": {},
   "outputs": [
    {
     "data": {
      "text/plain": [
       "array([7, 6, 9])"
      ]
     },
     "execution_count": 89,
     "metadata": {},
     "output_type": "execute_result"
    }
   ],
   "source": [
    "n6.max(axis=1)    # axis=1 row"
   ]
  },
  {
   "cell_type": "code",
   "execution_count": 91,
   "id": "43266060",
   "metadata": {},
   "outputs": [
    {
     "data": {
      "text/plain": [
       "array([9, 5, 5, 6, 7])"
      ]
     },
     "execution_count": 91,
     "metadata": {},
     "output_type": "execute_result"
    }
   ],
   "source": [
    "n6.max(axis=0)  "
   ]
  },
  {
   "cell_type": "code",
   "execution_count": 90,
   "id": "15c3b6e3",
   "metadata": {},
   "outputs": [
    {
     "data": {
      "text/plain": [
       "array([2, 4, 2, 2, 6])"
      ]
     },
     "execution_count": 90,
     "metadata": {},
     "output_type": "execute_result"
    }
   ],
   "source": [
    "n6.min(axis=0)   # axis=0 column"
   ]
  },
  {
   "cell_type": "code",
   "execution_count": 92,
   "id": "7ba92a12",
   "metadata": {},
   "outputs": [
    {
     "data": {
      "text/plain": [
       "array([2, 2, 2])"
      ]
     },
     "execution_count": 92,
     "metadata": {},
     "output_type": "execute_result"
    }
   ],
   "source": [
    "n6.min(axis=1)"
   ]
  },
  {
   "cell_type": "code",
   "execution_count": 64,
   "id": "024cc246",
   "metadata": {},
   "outputs": [
    {
     "name": "stdout",
     "output_type": "stream",
     "text": [
      "[2 4 5]\n"
     ]
    }
   ],
   "source": [
    "# Intersection of numpy arrray\n",
    "# Finding common elements between 2 arrays   intersect1d() method\n",
    "# The resultant common elements at sorted\n",
    "n7 = ([2,4,5,3,2])\n",
    "n8 = ([2,4,5,7,8])\n",
    "rp = np.intersect1d(n7,n8)\n",
    "print(rp)"
   ]
  },
  {
   "cell_type": "code",
   "execution_count": 65,
   "id": "85f0dc73",
   "metadata": {},
   "outputs": [
    {
     "name": "stdout",
     "output_type": "stream",
     "text": [
      "[]\n"
     ]
    }
   ],
   "source": [
    "# What if the arrays have different elements\n",
    "n7 = ([2,4,5,3,2])\n",
    "n9 = ([8,9,10,7,6])\n",
    "\n",
    "rp = np.intersect1d(n7,n9)\n",
    "print(rp)"
   ]
  },
  {
   "cell_type": "code",
   "execution_count": 70,
   "id": "93a1f1cb",
   "metadata": {},
   "outputs": [
    {
     "name": "stdout",
     "output_type": "stream",
     "text": [
      "[1 2 3]\n"
     ]
    }
   ],
   "source": [
    "# Difference between two array\n",
    "# np.setdiff1d()\n",
    "# It will leave the common elements and print the rest in the array\n",
    "\n",
    "n7 = ([2,4,5,3,1])\n",
    "n9 = ([4,5,8,7,9])\n",
    "\n",
    "rp = np.setdiff1d(n7,n9)\n",
    "print(rp)"
   ]
  },
  {
   "cell_type": "code",
   "execution_count": 72,
   "id": "4ea8f0a2",
   "metadata": {},
   "outputs": [
    {
     "name": "stdout",
     "output_type": "stream",
     "text": [
      "[7 8 9]\n"
     ]
    }
   ],
   "source": [
    "n7 = ([2,4,5,3,1])\n",
    "n9 = ([4,5,8,7,9])\n",
    "\n",
    "rp = np.setdiff1d(n9,n7)\n",
    "print(rp)"
   ]
  },
  {
   "cell_type": "code",
   "execution_count": 79,
   "id": "e2d699e8",
   "metadata": {},
   "outputs": [
    {
     "name": "stdout",
     "output_type": "stream",
     "text": [
      "[ 6  9 13 10 10]\n"
     ]
    }
   ],
   "source": [
    "# Arithematic operations\n",
    "\n",
    "n7 = ([2,4,5,3,1])\n",
    "n9 = ([4,5,8,7,9])\n",
    "\n",
    "rp = np.sum([n7,n9], axis=0)\n",
    "print(rp)"
   ]
  },
  {
   "cell_type": "code",
   "execution_count": 77,
   "id": "66252625",
   "metadata": {},
   "outputs": [
    {
     "name": "stdout",
     "output_type": "stream",
     "text": [
      "48\n"
     ]
    }
   ],
   "source": [
    "n7 = ([2,4,5,3,1])\n",
    "n9 = ([4,5,8,7,9])\n",
    "\n",
    "rp = np.sum([n7,n9])\n",
    "print(rp)"
   ]
  },
  {
   "cell_type": "code",
   "execution_count": 83,
   "id": "1810752c",
   "metadata": {},
   "outputs": [
    {
     "name": "stdout",
     "output_type": "stream",
     "text": [
      "[2 1 3 4 8]\n"
     ]
    }
   ],
   "source": [
    "n7 = ([2,4,5,3,1])\n",
    "n9 = ([4,5,8,7,9])\n",
    "\n",
    "rp = np.subtract(n9,n7)\n",
    "print(rp)"
   ]
  },
  {
   "cell_type": "code",
   "execution_count": 85,
   "id": "9d070a79",
   "metadata": {},
   "outputs": [
    {
     "name": "stdout",
     "output_type": "stream",
     "text": [
      "[ 8 20 40 21  9]\n"
     ]
    }
   ],
   "source": [
    "n7 = ([2,4,5,3,1])\n",
    "n9 = ([4,5,8,7,9])\n",
    "\n",
    "rp = np.multiply(n9,n7)\n",
    "print(rp)"
   ]
  },
  {
   "cell_type": "code",
   "execution_count": 86,
   "id": "8e78dece",
   "metadata": {},
   "outputs": [
    {
     "name": "stdout",
     "output_type": "stream",
     "text": [
      "[2.         1.25       1.6        2.33333333 9.        ]\n"
     ]
    }
   ],
   "source": [
    "n7 = ([2,4,5,3,1])\n",
    "n9 = ([4,5,8,7,9])\n",
    "\n",
    "rp = np.divide(n9,n7)\n",
    "print(rp)"
   ]
  },
  {
   "cell_type": "code",
   "execution_count": 111,
   "id": "c6677693",
   "metadata": {},
   "outputs": [
    {
     "name": "stdout",
     "output_type": "stream",
     "text": [
      "int64\n"
     ]
    }
   ],
   "source": [
    "n10 = np.array([1,4,2,5,7,5,6,9])\n",
    "print(n10.dtype)"
   ]
  },
  {
   "cell_type": "code",
   "execution_count": 112,
   "id": "d5d28fc6",
   "metadata": {},
   "outputs": [
    {
     "name": "stdout",
     "output_type": "stream",
     "text": [
      "8\n"
     ]
    }
   ],
   "source": [
    "print(n10.itemsize)   #8 bytes"
   ]
  },
  {
   "cell_type": "code",
   "execution_count": 115,
   "id": "3b793d12",
   "metadata": {},
   "outputs": [
    {
     "name": "stdout",
     "output_type": "stream",
     "text": [
      "8\n",
      "int64\n",
      "Total bytes consumed: 24\n"
     ]
    }
   ],
   "source": [
    "import numpy as np\n",
    "\n",
    "# Create a NumPy array\n",
    "arr = np.array([1, 2, 3])\n",
    "print(arr.itemsize)\n",
    "print(arr.dtype)\n",
    "# Check bytes consumed\n",
    "print(\"Total bytes consumed:\", arr.nbytes)  # Output: 12 bytes (3 elements * 4 bytes per int32)\n"
   ]
  },
  {
   "cell_type": "markdown",
   "id": "280411af",
   "metadata": {},
   "source": [
    "#  dec 4"
   ]
  },
  {
   "cell_type": "code",
   "execution_count": 169,
   "id": "39f8f41e",
   "metadata": {},
   "outputs": [
    {
     "name": "stdout",
     "output_type": "stream",
     "text": [
      "[12 14 15 13 11]\n",
      "[24 25 28 27 29]\n"
     ]
    }
   ],
   "source": [
    "## Scaler Operation\n",
    "import numpy as np\n",
    "n7 = np.array ([2,4,5,3,1])\n",
    "n9 = np.array([4,5,8,7,9])\n",
    "n7 = n7+10;\n",
    "n9 = n9+20\n",
    "print(n7)\n",
    "print(n9) "
   ]
  },
  {
   "cell_type": "code",
   "execution_count": 166,
   "id": "fe488448",
   "metadata": {
    "scrolled": true
   },
   "outputs": [
    {
     "name": "stdout",
     "output_type": "stream",
     "text": [
      "[32 34 35 33 31]\n",
      "[10 11 14 13 15]\n"
     ]
    }
   ],
   "source": [
    "n7 = n7+10;\n",
    "n9 = n9+2;\n",
    "print(n7)\n",
    "print(n9) "
   ]
  },
  {
   "cell_type": "code",
   "execution_count": 131,
   "id": "29860f81",
   "metadata": {},
   "outputs": [
    {
     "name": "stdout",
     "output_type": "stream",
     "text": [
      "[ 5 39 58 37 73]\n",
      "[33 45 60 32  2]\n"
     ]
    }
   ],
   "source": [
    "n11 = np.array([10,44,63,42,78])           # Why n9 = n9+20;......;use\n",
    "n12 = np.array([43,55,70,42,12])\n",
    "n11 = n11-5\n",
    "n12 = n12-10\n",
    "print(n11)\n",
    "print(n12)"
   ]
  },
  {
   "cell_type": "code",
   "execution_count": 132,
   "id": "3794c950",
   "metadata": {},
   "outputs": [
    {
     "name": "stdout",
     "output_type": "stream",
     "text": [
      "[ 8 16 20 12  4]\n",
      "[24 30 48 42 54]\n"
     ]
    }
   ],
   "source": [
    "n7 = np.array ([2,4,5,3,1])\n",
    "n9 = np.array([4,5,8,7,9])\n",
    "n7 = n7*4\n",
    "n9 = n9*6\n",
    "print(n7)\n",
    "print(n9) "
   ]
  },
  {
   "cell_type": "code",
   "execution_count": 171,
   "id": "7838347b",
   "metadata": {},
   "outputs": [
    {
     "name": "stdout",
     "output_type": "stream",
     "text": [
      "[0 0 1 1 1]\n",
      "[1 1 2 2 3]\n"
     ]
    }
   ],
   "source": [
    "n7 = np.array ([2,4,5,3,1])\n",
    "n9 = np.array([4,5,8,7,9])\n",
    "n7 = n7%2\n",
    "n9 = n9//3\n",
    "print(n7)\n",
    "print(n9) "
   ]
  },
  {
   "cell_type": "code",
   "execution_count": 136,
   "id": "f579f9ab",
   "metadata": {},
   "outputs": [
    {
     "name": "stdout",
     "output_type": "stream",
     "text": [
      "3.0\n",
      "6.6\n"
     ]
    }
   ],
   "source": [
    "# Mean Median Standard Deviation of an array\n",
    "n7 = np.array ([2,4,5,3,1])\n",
    "n9 = np.array([4,5,8,7,9])\n",
    "n7 = np.mean(n7)\n",
    "n9 = np.mean(n9)\n",
    "print(n7)\n",
    "print(n9)"
   ]
  },
  {
   "cell_type": "code",
   "execution_count": 138,
   "id": "bb9ea27d",
   "metadata": {},
   "outputs": [
    {
     "name": "stdout",
     "output_type": "stream",
     "text": [
      "2.5\n",
      "7.5\n"
     ]
    }
   ],
   "source": [
    "n7 = np.array ([2,3,4,2,4,5,7,1,1,1,3,1])\n",
    "n9 = np.array([4,5,8,4,6,8,8,7,8,9,7,9])\n",
    "n7 = np.median(n7)\n",
    "n9 = np.median(n9)\n",
    "print(n7)\n",
    "print(n9)"
   ]
  },
  {
   "cell_type": "code",
   "execution_count": 140,
   "id": "5ca5a312",
   "metadata": {},
   "outputs": [
    {
     "name": "stdout",
     "output_type": "stream",
     "text": [
      "1.818118685772619\n",
      "1.70579079087156\n"
     ]
    }
   ],
   "source": [
    "# Standard deviation\n",
    "# measure of the different variations or dispersion of the given values\n",
    "n7 = np.array ([2,3,4,2,4,5,7,1,1,1,3,1])\n",
    "n9 = np.array([4,5,8,4,6,8,8,7,8,9,7,9])\n",
    "n7 = np.std(n7)\n",
    "n9 = np.std(n9)\n",
    "print(n7)\n",
    "print(n9)"
   ]
  },
  {
   "cell_type": "code",
   "execution_count": 143,
   "id": "f6f097c2",
   "metadata": {},
   "outputs": [
    {
     "name": "stdout",
     "output_type": "stream",
     "text": [
      "1\n"
     ]
    }
   ],
   "source": [
    "from numpy import random\n",
    "y = random.randint(10)\n",
    "print(y)"
   ]
  },
  {
   "cell_type": "code",
   "execution_count": 144,
   "id": "0f06db29",
   "metadata": {},
   "outputs": [
    {
     "name": "stdout",
     "output_type": "stream",
     "text": [
      "[4 1 3]\n"
     ]
    }
   ],
   "source": [
    "z = random.randint(10, size=3)\n",
    "print(z)"
   ]
  },
  {
   "cell_type": "code",
   "execution_count": 173,
   "id": "bd6acf7b",
   "metadata": {},
   "outputs": [
    {
     "name": "stdout",
     "output_type": "stream",
     "text": [
      "[8 8 2]\n"
     ]
    }
   ],
   "source": [
    "a = random.choice([4,2,6,7,9,8,6,2], size = 3)\n",
    "print(a)"
   ]
  },
  {
   "cell_type": "code",
   "execution_count": 147,
   "id": "d3cd6cae",
   "metadata": {},
   "outputs": [
    {
     "name": "stdout",
     "output_type": "stream",
     "text": [
      "[4 5 8 7 9]\n",
      "[2.         2.32192809 3.         2.80735492 3.169925  ]\n"
     ]
    }
   ],
   "source": [
    "n9 = np.array([4,5,8,7,9])\n",
    "print(n9)\n",
    "print(np.log2(n9))"
   ]
  },
  {
   "cell_type": "code",
   "execution_count": 148,
   "id": "f791a203",
   "metadata": {},
   "outputs": [
    {
     "name": "stdout",
     "output_type": "stream",
     "text": [
      "[4 5 8 7 9]\n",
      "[0.60205999 0.69897    0.90308999 0.84509804 0.95424251]\n"
     ]
    }
   ],
   "source": [
    "n9 = np.array([4,5,8,7,9])\n",
    "print(n9)\n",
    "print(np.log10(n9))"
   ]
  },
  {
   "cell_type": "code",
   "execution_count": 150,
   "id": "99828008",
   "metadata": {},
   "outputs": [
    {
     "name": "stdout",
     "output_type": "stream",
     "text": [
      "12\n"
     ]
    }
   ],
   "source": [
    "a = 3\n",
    "b = 12\n",
    "rp = np.lcm(a,b)\n",
    "print(rp)"
   ]
  },
  {
   "cell_type": "code",
   "execution_count": 153,
   "id": "834765ed",
   "metadata": {},
   "outputs": [
    {
     "name": "stdout",
     "output_type": "stream",
     "text": [
      "3\n"
     ]
    }
   ],
   "source": [
    "# Greatest common divisor\n",
    "a = 3\n",
    "b = 12\n",
    "rp = np.gcd(a,b)\n",
    "print(rp)"
   ]
  },
  {
   "cell_type": "code",
   "execution_count": 154,
   "id": "5ed2081f",
   "metadata": {},
   "outputs": [
    {
     "name": "stdout",
     "output_type": "stream",
     "text": [
      "[1. 2. 3.]\n"
     ]
    }
   ],
   "source": [
    "# Changing the datatype using astype\n",
    "array = np.array([1, 2, 3], dtype='int32')\n",
    "float_array = array.astype('float64')\n",
    "print(float_array)\n"
   ]
  },
  {
   "cell_type": "code",
   "execution_count": 160,
   "id": "6cdab544",
   "metadata": {},
   "outputs": [
    {
     "name": "stdout",
     "output_type": "stream",
     "text": [
      "['2023-12-01' '2023-12-02']\n"
     ]
    }
   ],
   "source": [
    "# Time datatype\n",
    "date_array = np.array(['2023-12-01', '2023-12-02'], dtype='datetime64')\n",
    "print(date_array)\n"
   ]
  },
  {
   "cell_type": "code",
   "execution_count": 174,
   "id": "b328d881",
   "metadata": {},
   "outputs": [
    {
     "name": "stdout",
     "output_type": "stream",
     "text": [
      "Enter the number: 10\n",
      "not prime\n"
     ]
    }
   ],
   "source": [
    "# create a python func which takes a number and returns the count of factors.\n",
    "# Using the same check whether the entered number is prime or not.\n",
    "def fact(n):\n",
    "    y = 0\n",
    "    for i in range(1,n+1):\n",
    "        if n%i == 0:\n",
    "            y += 1\n",
    "    return y\n",
    "\n",
    "num = int(input(\"Enter the number: \"))\n",
    "res = fact(num)\n",
    "if res == 2:\n",
    "    print(\"It is a prime.\")\n",
    "else:\n",
    "    print(\"not prime\")\n",
    "            \n"
   ]
  },
  {
   "cell_type": "code",
   "execution_count": 175,
   "id": "abbf3379",
   "metadata": {},
   "outputs": [
    {
     "name": "stdout",
     "output_type": "stream",
     "text": [
      "6.0\n"
     ]
    }
   ],
   "source": [
    "data = [2, 4, 6, 8, 10]\n",
    "mean = sum(data) / len(data)\n",
    "print(mean) "
   ]
  },
  {
   "cell_type": "code",
   "execution_count": 176,
   "id": "8d9e5f5a",
   "metadata": {},
   "outputs": [
    {
     "name": "stdout",
     "output_type": "stream",
     "text": [
      "3\n"
     ]
    }
   ],
   "source": [
    "# Middle value median\n",
    "data = [3, 1, 4, 2, 5]\n",
    "sorted_data = sorted(data)  # [1, 2, 3, 4, 5]\n",
    "median = sorted_data[len(data) // 2]  \n",
    "print(median) "
   ]
  },
  {
   "cell_type": "code",
   "execution_count": 177,
   "id": "98218bca",
   "metadata": {},
   "outputs": [
    {
     "name": "stdout",
     "output_type": "stream",
     "text": [
      "3\n"
     ]
    }
   ],
   "source": [
    "from statistics import mode\n",
    "data = [1, 2, 2, 3, 3, 3, 4]\n",
    "mode_value = mode(data)\n",
    "print(mode_value) "
   ]
  },
  {
   "cell_type": "code",
   "execution_count": 180,
   "id": "3def5be9",
   "metadata": {},
   "outputs": [
    {
     "name": "stdout",
     "output_type": "stream",
     "text": [
      "0.9999999999999999\n",
      "1\n"
     ]
    }
   ],
   "source": [
    "# Correlation\n",
    "''' Measures the strength and direction of the linear relationship between two \n",
    "variables. Values range from -1 (perfect negative correlation) to 1 \n",
    "(perfect positive correlation), with 0 indicating no correlation.'''\n",
    "\n",
    "import numpy as np\n",
    "x = [1, 2, 3, 4, 5]\n",
    "y = [2, 4, 6, 8, 10]  \n",
    "\n",
    "correlation = np.corrcoef(x, y)[0, 1]\n",
    "print(correlation)  \n",
    "y = round(correlation)\n",
    "print(y)"
   ]
  },
  {
   "cell_type": "code",
   "execution_count": null,
   "id": "930b141c",
   "metadata": {},
   "outputs": [],
   "source": [
    "# Variance\n",
    "'''Measures the spread of data points from the mean. A higher variance indicates\n",
    "data points are more spread out; a lower variance means they are closer to the mean.'''\n",
    "\n",
    "data = [1, 2, 3, 4, 5]\n",
    "mean = sum(data) / len(data)\n",
    "variance = sum((x - mean) ** 2 for x in data) / len(data)\n",
    "print(variance)  # Output: 2.0\n"
   ]
  },
  {
   "cell_type": "markdown",
   "id": "01d468d1",
   "metadata": {},
   "source": [
    "# Pandas"
   ]
  },
  {
   "cell_type": "code",
   "execution_count": 184,
   "id": "ed32e1aa",
   "metadata": {},
   "outputs": [
    {
     "data": {
      "text/html": [
       "<div>\n",
       "<style scoped>\n",
       "    .dataframe tbody tr th:only-of-type {\n",
       "        vertical-align: middle;\n",
       "    }\n",
       "\n",
       "    .dataframe tbody tr th {\n",
       "        vertical-align: top;\n",
       "    }\n",
       "\n",
       "    .dataframe thead th {\n",
       "        text-align: right;\n",
       "    }\n",
       "</style>\n",
       "<table border=\"1\" class=\"dataframe\">\n",
       "  <thead>\n",
       "    <tr style=\"text-align: right;\">\n",
       "      <th></th>\n",
       "      <th>day</th>\n",
       "      <th>temperature</th>\n",
       "      <th>windspeed</th>\n",
       "      <th>event</th>\n",
       "    </tr>\n",
       "  </thead>\n",
       "  <tbody>\n",
       "    <tr>\n",
       "      <th>0</th>\n",
       "      <td>1/1/2017</td>\n",
       "      <td>32</td>\n",
       "      <td>6</td>\n",
       "      <td>Rain</td>\n",
       "    </tr>\n",
       "    <tr>\n",
       "      <th>1</th>\n",
       "      <td>1/2/2017</td>\n",
       "      <td>35</td>\n",
       "      <td>7</td>\n",
       "      <td>Sunny</td>\n",
       "    </tr>\n",
       "    <tr>\n",
       "      <th>2</th>\n",
       "      <td>1/3/2017</td>\n",
       "      <td>28</td>\n",
       "      <td>2</td>\n",
       "      <td>Snow</td>\n",
       "    </tr>\n",
       "    <tr>\n",
       "      <th>3</th>\n",
       "      <td>1/4/2017</td>\n",
       "      <td>24</td>\n",
       "      <td>7</td>\n",
       "      <td>Snow</td>\n",
       "    </tr>\n",
       "    <tr>\n",
       "      <th>4</th>\n",
       "      <td>1/5/2017</td>\n",
       "      <td>32</td>\n",
       "      <td>4</td>\n",
       "      <td>Rain</td>\n",
       "    </tr>\n",
       "    <tr>\n",
       "      <th>5</th>\n",
       "      <td>1/6/2017</td>\n",
       "      <td>31</td>\n",
       "      <td>2</td>\n",
       "      <td>Sunny</td>\n",
       "    </tr>\n",
       "  </tbody>\n",
       "</table>\n",
       "</div>"
      ],
      "text/plain": [
       "        day  temperature  windspeed  event\n",
       "0  1/1/2017           32          6   Rain\n",
       "1  1/2/2017           35          7  Sunny\n",
       "2  1/3/2017           28          2   Snow\n",
       "3  1/4/2017           24          7   Snow\n",
       "4  1/5/2017           32          4   Rain\n",
       "5  1/6/2017           31          2  Sunny"
      ]
     },
     "execution_count": 184,
     "metadata": {},
     "output_type": "execute_result"
    }
   ],
   "source": [
    "import pandas as pd\n",
    "# Ways of creating dataframes\n",
    "df = pd.read_csv(\"weather_data.csv\")\n",
    "df"
   ]
  },
  {
   "cell_type": "code",
   "execution_count": null,
   "id": "46f562ba",
   "metadata": {},
   "outputs": [],
   "source": [
    "# There are no excel version of this data\n",
    "df = pd.read_excel(\"weather_data.xlsx\",\"sheet 1\")"
   ]
  },
  {
   "cell_type": "code",
   "execution_count": 188,
   "id": "b2078f15",
   "metadata": {},
   "outputs": [
    {
     "data": {
      "text/html": [
       "<div>\n",
       "<style scoped>\n",
       "    .dataframe tbody tr th:only-of-type {\n",
       "        vertical-align: middle;\n",
       "    }\n",
       "\n",
       "    .dataframe tbody tr th {\n",
       "        vertical-align: top;\n",
       "    }\n",
       "\n",
       "    .dataframe thead th {\n",
       "        text-align: right;\n",
       "    }\n",
       "</style>\n",
       "<table border=\"1\" class=\"dataframe\">\n",
       "  <thead>\n",
       "    <tr style=\"text-align: right;\">\n",
       "      <th></th>\n",
       "      <th>day</th>\n",
       "      <th>temperature</th>\n",
       "      <th>windspeed</th>\n",
       "      <th>event</th>\n",
       "    </tr>\n",
       "  </thead>\n",
       "  <tbody>\n",
       "    <tr>\n",
       "      <th>0</th>\n",
       "      <td>1/1/2017</td>\n",
       "      <td>32</td>\n",
       "      <td>6</td>\n",
       "      <td>Rain</td>\n",
       "    </tr>\n",
       "    <tr>\n",
       "      <th>1</th>\n",
       "      <td>1/2/2017</td>\n",
       "      <td>35</td>\n",
       "      <td>7</td>\n",
       "      <td>Sunny</td>\n",
       "    </tr>\n",
       "    <tr>\n",
       "      <th>2</th>\n",
       "      <td>1/3/2017</td>\n",
       "      <td>28</td>\n",
       "      <td>2</td>\n",
       "      <td>Snow</td>\n",
       "    </tr>\n",
       "  </tbody>\n",
       "</table>\n",
       "</div>"
      ],
      "text/plain": [
       "        day  temperature  windspeed  event\n",
       "0  1/1/2017           32          6   Rain\n",
       "1  1/2/2017           35          7  Sunny\n",
       "2  1/3/2017           28          2   Snow"
      ]
     },
     "execution_count": 188,
     "metadata": {},
     "output_type": "execute_result"
    }
   ],
   "source": [
    "# Using python dictionary\n",
    "# Pandas DataFrame is a 2d data stucture with rows and columns.\n",
    "weather_data = {\n",
    "    'day':['1/1/2017','1/2/2017','1/3/2017'],\n",
    "    'temperature':[32,35,28],\n",
    "    'windspeed':[6,7,2],\n",
    "    'event':['Rain','Sunny','Snow']\n",
    "}\n",
    "df = pd.DataFrame(weather_data)\n",
    "df"
   ]
  },
  {
   "cell_type": "code",
   "execution_count": 191,
   "id": "0d08f29f",
   "metadata": {},
   "outputs": [
    {
     "data": {
      "text/html": [
       "<div>\n",
       "<style scoped>\n",
       "    .dataframe tbody tr th:only-of-type {\n",
       "        vertical-align: middle;\n",
       "    }\n",
       "\n",
       "    .dataframe tbody tr th {\n",
       "        vertical-align: top;\n",
       "    }\n",
       "\n",
       "    .dataframe thead th {\n",
       "        text-align: right;\n",
       "    }\n",
       "</style>\n",
       "<table border=\"1\" class=\"dataframe\">\n",
       "  <thead>\n",
       "    <tr style=\"text-align: right;\">\n",
       "      <th></th>\n",
       "      <th>day</th>\n",
       "      <th>temperature</th>\n",
       "      <th>windspeed</th>\n",
       "      <th>event</th>\n",
       "    </tr>\n",
       "  </thead>\n",
       "  <tbody>\n",
       "    <tr>\n",
       "      <th>0</th>\n",
       "      <td>1/1/2017</td>\n",
       "      <td>32</td>\n",
       "      <td>6</td>\n",
       "      <td>Rain</td>\n",
       "    </tr>\n",
       "    <tr>\n",
       "      <th>1</th>\n",
       "      <td>1/2/2017</td>\n",
       "      <td>35</td>\n",
       "      <td>7</td>\n",
       "      <td>Sunny</td>\n",
       "    </tr>\n",
       "    <tr>\n",
       "      <th>2</th>\n",
       "      <td>1/3/2017</td>\n",
       "      <td>28</td>\n",
       "      <td>2</td>\n",
       "      <td>Snow</td>\n",
       "    </tr>\n",
       "  </tbody>\n",
       "</table>\n",
       "</div>"
      ],
      "text/plain": [
       "        day  temperature  windspeed  event\n",
       "0  1/1/2017           32          6   Rain\n",
       "1  1/2/2017           35          7  Sunny\n",
       "2  1/3/2017           28          2   Snow"
      ]
     },
     "execution_count": 191,
     "metadata": {},
     "output_type": "execute_result"
    }
   ],
   "source": [
    "# Using tuple list\n",
    "weather_data = [\n",
    "    ('1/1/2017',32,6,'Rain'),\n",
    "     ('1/2/2017',35,7,'Sunny'),\n",
    "     ('1/3/2017',28,2,'Snow')\n",
    "]\n",
    "df = pd.DataFrame(weather_data, columns = ['day','temperature','windspeed','event'])\n",
    "df"
   ]
  },
  {
   "cell_type": "code",
   "execution_count": 193,
   "id": "d190796f",
   "metadata": {},
   "outputs": [
    {
     "data": {
      "text/html": [
       "<div>\n",
       "<style scoped>\n",
       "    .dataframe tbody tr th:only-of-type {\n",
       "        vertical-align: middle;\n",
       "    }\n",
       "\n",
       "    .dataframe tbody tr th {\n",
       "        vertical-align: top;\n",
       "    }\n",
       "\n",
       "    .dataframe thead th {\n",
       "        text-align: right;\n",
       "    }\n",
       "</style>\n",
       "<table border=\"1\" class=\"dataframe\">\n",
       "  <thead>\n",
       "    <tr style=\"text-align: right;\">\n",
       "      <th></th>\n",
       "      <th>day</th>\n",
       "      <th>temperature</th>\n",
       "      <th>windspeed</th>\n",
       "      <th>event</th>\n",
       "    </tr>\n",
       "  </thead>\n",
       "  <tbody>\n",
       "    <tr>\n",
       "      <th>0</th>\n",
       "      <td>1/1/2017</td>\n",
       "      <td>32</td>\n",
       "      <td>6</td>\n",
       "      <td>Rain</td>\n",
       "    </tr>\n",
       "    <tr>\n",
       "      <th>1</th>\n",
       "      <td>1/2/2017</td>\n",
       "      <td>35</td>\n",
       "      <td>7</td>\n",
       "      <td>Sunny</td>\n",
       "    </tr>\n",
       "    <tr>\n",
       "      <th>2</th>\n",
       "      <td>1/3/2017</td>\n",
       "      <td>28</td>\n",
       "      <td>2</td>\n",
       "      <td>Snow</td>\n",
       "    </tr>\n",
       "  </tbody>\n",
       "</table>\n",
       "</div>"
      ],
      "text/plain": [
       "        day  temperature  windspeed  event\n",
       "0  1/1/2017           32          6   Rain\n",
       "1  1/2/2017           35          7  Sunny\n",
       "2  1/3/2017           28          2   Snow"
      ]
     },
     "execution_count": 193,
     "metadata": {},
     "output_type": "execute_result"
    }
   ],
   "source": [
    "# 4th way\n",
    "weather_data = [\n",
    "    {'day':'1/1/2017', 'temperature':32, 'windspeed':6, 'event':'Rain'},\n",
    "    {'day':'1/2/2017', 'temperature':35, 'windspeed':7, 'event':'Sunny'},\n",
    "    {'day':'1/3/2017', 'temperature':28, 'windspeed':2, 'event':'Snow'}\n",
    "]\n",
    "df = pd.DataFrame(weather_data)\n",
    "df"
   ]
  },
  {
   "cell_type": "code",
   "execution_count": 195,
   "id": "cf26b246",
   "metadata": {},
   "outputs": [
    {
     "data": {
      "text/html": [
       "<div>\n",
       "<style scoped>\n",
       "    .dataframe tbody tr th:only-of-type {\n",
       "        vertical-align: middle;\n",
       "    }\n",
       "\n",
       "    .dataframe tbody tr th {\n",
       "        vertical-align: top;\n",
       "    }\n",
       "\n",
       "    .dataframe thead th {\n",
       "        text-align: right;\n",
       "    }\n",
       "</style>\n",
       "<table border=\"1\" class=\"dataframe\">\n",
       "  <thead>\n",
       "    <tr style=\"text-align: right;\">\n",
       "      <th></th>\n",
       "      <th>day</th>\n",
       "      <th>temperature</th>\n",
       "      <th>windspeed</th>\n",
       "      <th>event</th>\n",
       "    </tr>\n",
       "  </thead>\n",
       "  <tbody>\n",
       "    <tr>\n",
       "      <th>0</th>\n",
       "      <td>1/1/2017</td>\n",
       "      <td>32</td>\n",
       "      <td>6</td>\n",
       "      <td>Rain</td>\n",
       "    </tr>\n",
       "    <tr>\n",
       "      <th>1</th>\n",
       "      <td>1/2/2017</td>\n",
       "      <td>35</td>\n",
       "      <td>7</td>\n",
       "      <td>Sunny</td>\n",
       "    </tr>\n",
       "    <tr>\n",
       "      <th>2</th>\n",
       "      <td>1/3/2017</td>\n",
       "      <td>28</td>\n",
       "      <td>2</td>\n",
       "      <td>Snow</td>\n",
       "    </tr>\n",
       "    <tr>\n",
       "      <th>3</th>\n",
       "      <td>1/4/2017</td>\n",
       "      <td>24</td>\n",
       "      <td>7</td>\n",
       "      <td>Snow</td>\n",
       "    </tr>\n",
       "    <tr>\n",
       "      <th>4</th>\n",
       "      <td>1/5/2017</td>\n",
       "      <td>32</td>\n",
       "      <td>4</td>\n",
       "      <td>Rain</td>\n",
       "    </tr>\n",
       "    <tr>\n",
       "      <th>5</th>\n",
       "      <td>1/6/2017</td>\n",
       "      <td>31</td>\n",
       "      <td>2</td>\n",
       "      <td>Sunny</td>\n",
       "    </tr>\n",
       "  </tbody>\n",
       "</table>\n",
       "</div>"
      ],
      "text/plain": [
       "        day  temperature  windspeed  event\n",
       "0  1/1/2017           32          6   Rain\n",
       "1  1/2/2017           35          7  Sunny\n",
       "2  1/3/2017           28          2   Snow\n",
       "3  1/4/2017           24          7   Snow\n",
       "4  1/5/2017           32          4   Rain\n",
       "5  1/6/2017           31          2  Sunny"
      ]
     },
     "execution_count": 195,
     "metadata": {},
     "output_type": "execute_result"
    }
   ],
   "source": [
    "df = pd.read_csv(\"weather_data.csv\")\n",
    "df"
   ]
  },
  {
   "cell_type": "code",
   "execution_count": null,
   "id": "0480cb2b",
   "metadata": {},
   "outputs": [],
   "source": [
    "# Skipping rows\n",
    "df = pd.read_csv(\"weather_data.csv\", skiprows = 1)\n",
    "print(df)"
   ]
  },
  {
   "cell_type": "code",
   "execution_count": 196,
   "id": "428149e3",
   "metadata": {},
   "outputs": [
    {
     "data": {
      "text/html": [
       "<div>\n",
       "<style scoped>\n",
       "    .dataframe tbody tr th:only-of-type {\n",
       "        vertical-align: middle;\n",
       "    }\n",
       "\n",
       "    .dataframe tbody tr th {\n",
       "        vertical-align: top;\n",
       "    }\n",
       "\n",
       "    .dataframe thead th {\n",
       "        text-align: right;\n",
       "    }\n",
       "</style>\n",
       "<table border=\"1\" class=\"dataframe\">\n",
       "  <thead>\n",
       "    <tr style=\"text-align: right;\">\n",
       "      <th></th>\n",
       "      <th>0</th>\n",
       "      <th>1</th>\n",
       "      <th>2</th>\n",
       "      <th>3</th>\n",
       "    </tr>\n",
       "  </thead>\n",
       "  <tbody>\n",
       "    <tr>\n",
       "      <th>0</th>\n",
       "      <td>day</td>\n",
       "      <td>temperature</td>\n",
       "      <td>windspeed</td>\n",
       "      <td>event</td>\n",
       "    </tr>\n",
       "    <tr>\n",
       "      <th>1</th>\n",
       "      <td>1/1/2017</td>\n",
       "      <td>32</td>\n",
       "      <td>6</td>\n",
       "      <td>Rain</td>\n",
       "    </tr>\n",
       "    <tr>\n",
       "      <th>2</th>\n",
       "      <td>1/2/2017</td>\n",
       "      <td>35</td>\n",
       "      <td>7</td>\n",
       "      <td>Sunny</td>\n",
       "    </tr>\n",
       "    <tr>\n",
       "      <th>3</th>\n",
       "      <td>1/3/2017</td>\n",
       "      <td>28</td>\n",
       "      <td>2</td>\n",
       "      <td>Snow</td>\n",
       "    </tr>\n",
       "    <tr>\n",
       "      <th>4</th>\n",
       "      <td>1/4/2017</td>\n",
       "      <td>24</td>\n",
       "      <td>7</td>\n",
       "      <td>Snow</td>\n",
       "    </tr>\n",
       "    <tr>\n",
       "      <th>5</th>\n",
       "      <td>1/5/2017</td>\n",
       "      <td>32</td>\n",
       "      <td>4</td>\n",
       "      <td>Rain</td>\n",
       "    </tr>\n",
       "    <tr>\n",
       "      <th>6</th>\n",
       "      <td>1/6/2017</td>\n",
       "      <td>31</td>\n",
       "      <td>2</td>\n",
       "      <td>Sunny</td>\n",
       "    </tr>\n",
       "  </tbody>\n",
       "</table>\n",
       "</div>"
      ],
      "text/plain": [
       "          0            1          2      3\n",
       "0       day  temperature  windspeed  event\n",
       "1  1/1/2017           32          6   Rain\n",
       "2  1/2/2017           35          7  Sunny\n",
       "3  1/3/2017           28          2   Snow\n",
       "4  1/4/2017           24          7   Snow\n",
       "5  1/5/2017           32          4   Rain\n",
       "6  1/6/2017           31          2  Sunny"
      ]
     },
     "execution_count": 196,
     "metadata": {},
     "output_type": "execute_result"
    }
   ],
   "source": [
    "# Change the header, can add names aswell\n",
    "df = pd.read_csv(\"weather_data.csv\", header = None)\n",
    "df"
   ]
  },
  {
   "cell_type": "code",
   "execution_count": 197,
   "id": "673fb1f2",
   "metadata": {},
   "outputs": [
    {
     "data": {
      "text/html": [
       "<div>\n",
       "<style scoped>\n",
       "    .dataframe tbody tr th:only-of-type {\n",
       "        vertical-align: middle;\n",
       "    }\n",
       "\n",
       "    .dataframe tbody tr th {\n",
       "        vertical-align: top;\n",
       "    }\n",
       "\n",
       "    .dataframe thead th {\n",
       "        text-align: right;\n",
       "    }\n",
       "</style>\n",
       "<table border=\"1\" class=\"dataframe\">\n",
       "  <thead>\n",
       "    <tr style=\"text-align: right;\">\n",
       "      <th></th>\n",
       "      <th>day</th>\n",
       "      <th>temperature</th>\n",
       "      <th>windspeed</th>\n",
       "      <th>event</th>\n",
       "    </tr>\n",
       "  </thead>\n",
       "  <tbody>\n",
       "    <tr>\n",
       "      <th>0</th>\n",
       "      <td>1/1/2017</td>\n",
       "      <td>32</td>\n",
       "      <td>6</td>\n",
       "      <td>Rain</td>\n",
       "    </tr>\n",
       "    <tr>\n",
       "      <th>1</th>\n",
       "      <td>1/2/2017</td>\n",
       "      <td>35</td>\n",
       "      <td>7</td>\n",
       "      <td>Sunny</td>\n",
       "    </tr>\n",
       "    <tr>\n",
       "      <th>2</th>\n",
       "      <td>1/3/2017</td>\n",
       "      <td>28</td>\n",
       "      <td>2</td>\n",
       "      <td>Snow</td>\n",
       "    </tr>\n",
       "    <tr>\n",
       "      <th>3</th>\n",
       "      <td>1/4/2017</td>\n",
       "      <td>24</td>\n",
       "      <td>7</td>\n",
       "      <td>Snow</td>\n",
       "    </tr>\n",
       "  </tbody>\n",
       "</table>\n",
       "</div>"
      ],
      "text/plain": [
       "        day  temperature  windspeed  event\n",
       "0  1/1/2017           32          6   Rain\n",
       "1  1/2/2017           35          7  Sunny\n",
       "2  1/3/2017           28          2   Snow\n",
       "3  1/4/2017           24          7   Snow"
      ]
     },
     "execution_count": 197,
     "metadata": {},
     "output_type": "execute_result"
    }
   ],
   "source": [
    "# Fetches the rows which we mention\n",
    "df = pd.read_csv(\"weather_data.csv\", nrows = 4)\n",
    "df"
   ]
  },
  {
   "cell_type": "code",
   "execution_count": null,
   "id": "cb9e92ec",
   "metadata": {},
   "outputs": [],
   "source": [
    "# Syntax for changing all null or na values to NaN(not a number)\n",
    "df = pd.read_csv(\"weather_data.csv\", na_values = ['not available','n.a.', ''])\n",
    "df"
   ]
  },
  {
   "cell_type": "code",
   "execution_count": null,
   "id": "4b142bd9",
   "metadata": {},
   "outputs": [],
   "source": [
    "# To change n.a to NaN from particular columns .\n",
    "df = pd.read_csv(\"weather_data.csv\", na_values = {\n",
    "    'termperature':['n.a.','NaN'],\n",
    "    'windspeed':[-1, n.a.]\n",
    "})\n",
    "df\n",
    "df.to_csv('new.csv')  # for making a new file which is edited"
   ]
  },
  {
   "cell_type": "code",
   "execution_count": null,
   "id": "799e3c70",
   "metadata": {},
   "outputs": [],
   "source": [
    "# This is to add only the columns mentioned in the new file.\n",
    "df.to_csv('new.csv',columns = ['column_name','comlumn_name'])"
   ]
  },
  {
   "cell_type": "code",
   "execution_count": null,
   "id": "0acd4569",
   "metadata": {},
   "outputs": [],
   "source": [
    "# To skip the header.\n",
    "df.to_csv('new.csv', header = False)"
   ]
  },
  {
   "cell_type": "code",
   "execution_count": null,
   "id": "b9eeccd5",
   "metadata": {},
   "outputs": [],
   "source": [
    "# To read the excel file\n",
    "df = pd.read_excel(\"weather_data.csv\" , 'sheet1')"
   ]
  },
  {
   "cell_type": "code",
   "execution_count": null,
   "id": "3d8a42dc",
   "metadata": {},
   "outputs": [],
   "source": [
    "# Add the function that converts to nan( type of NaN is float)\n",
    "def converter_cells():\n",
    "    if cell = n.a.:\n",
    "        return NaN\n",
    "    else:\n",
    "        return 'Sam Walton'\n",
    "df = pd.read_excel(\"weather_data.csv\" , 'sheet1', converters = {\n",
    "    'people' : convert_cells\n",
    "})\n",
    "df"
   ]
  },
  {
   "cell_type": "code",
   "execution_count": null,
   "id": "95a362ab",
   "metadata": {},
   "outputs": [],
   "source": [
    "# To create an excel sheet using pandas\n",
    "with pd.ExcelWriter('stocks_weather.xlxs') as writer:\n",
    "    df_stocks.to_excel(writer, sheet_name='stocks')\n",
    "    df_stocks.to_excel(writer, sheet_name='weather')\n",
    "    "
   ]
  },
  {
   "cell_type": "code",
   "execution_count": 204,
   "id": "f9a7295d",
   "metadata": {},
   "outputs": [
    {
     "data": {
      "text/html": [
       "<div>\n",
       "<style scoped>\n",
       "    .dataframe tbody tr th:only-of-type {\n",
       "        vertical-align: middle;\n",
       "    }\n",
       "\n",
       "    .dataframe tbody tr th {\n",
       "        vertical-align: top;\n",
       "    }\n",
       "\n",
       "    .dataframe thead th {\n",
       "        text-align: right;\n",
       "    }\n",
       "</style>\n",
       "<table border=\"1\" class=\"dataframe\">\n",
       "  <thead>\n",
       "    <tr style=\"text-align: right;\">\n",
       "      <th></th>\n",
       "      <th>day</th>\n",
       "      <th>temperature</th>\n",
       "      <th>windspeed</th>\n",
       "      <th>event</th>\n",
       "    </tr>\n",
       "  </thead>\n",
       "  <tbody>\n",
       "    <tr>\n",
       "      <th>0</th>\n",
       "      <td>2017-01-01</td>\n",
       "      <td>32</td>\n",
       "      <td>6</td>\n",
       "      <td>Rain</td>\n",
       "    </tr>\n",
       "    <tr>\n",
       "      <th>1</th>\n",
       "      <td>2017-01-02</td>\n",
       "      <td>35</td>\n",
       "      <td>7</td>\n",
       "      <td>Sunny</td>\n",
       "    </tr>\n",
       "    <tr>\n",
       "      <th>2</th>\n",
       "      <td>2017-01-03</td>\n",
       "      <td>28</td>\n",
       "      <td>2</td>\n",
       "      <td>Snow</td>\n",
       "    </tr>\n",
       "    <tr>\n",
       "      <th>3</th>\n",
       "      <td>2017-01-04</td>\n",
       "      <td>24</td>\n",
       "      <td>7</td>\n",
       "      <td>Snow</td>\n",
       "    </tr>\n",
       "    <tr>\n",
       "      <th>4</th>\n",
       "      <td>2017-01-05</td>\n",
       "      <td>32</td>\n",
       "      <td>4</td>\n",
       "      <td>Rain</td>\n",
       "    </tr>\n",
       "    <tr>\n",
       "      <th>5</th>\n",
       "      <td>2017-01-06</td>\n",
       "      <td>31</td>\n",
       "      <td>2</td>\n",
       "      <td>Sunny</td>\n",
       "    </tr>\n",
       "  </tbody>\n",
       "</table>\n",
       "</div>"
      ],
      "text/plain": [
       "         day  temperature  windspeed  event\n",
       "0 2017-01-01           32          6   Rain\n",
       "1 2017-01-02           35          7  Sunny\n",
       "2 2017-01-03           28          2   Snow\n",
       "3 2017-01-04           24          7   Snow\n",
       "4 2017-01-05           32          4   Rain\n",
       "5 2017-01-06           31          2  Sunny"
      ]
     },
     "execution_count": 204,
     "metadata": {},
     "output_type": "execute_result"
    }
   ],
   "source": [
    "df = pd.read_csv('weather_data.csv',parse_dates = ['day'])\n",
    "df"
   ]
  },
  {
   "cell_type": "code",
   "execution_count": 205,
   "id": "d8505d3c",
   "metadata": {},
   "outputs": [
    {
     "data": {
      "text/plain": [
       "pandas._libs.tslibs.timestamps.Timestamp"
      ]
     },
     "execution_count": 205,
     "metadata": {},
     "output_type": "execute_result"
    }
   ],
   "source": [
    "type(df.day[0])"
   ]
  },
  {
   "cell_type": "code",
   "execution_count": 208,
   "id": "2636da72",
   "metadata": {},
   "outputs": [
    {
     "data": {
      "text/html": [
       "<div>\n",
       "<style scoped>\n",
       "    .dataframe tbody tr th:only-of-type {\n",
       "        vertical-align: middle;\n",
       "    }\n",
       "\n",
       "    .dataframe tbody tr th {\n",
       "        vertical-align: top;\n",
       "    }\n",
       "\n",
       "    .dataframe thead th {\n",
       "        text-align: right;\n",
       "    }\n",
       "</style>\n",
       "<table border=\"1\" class=\"dataframe\">\n",
       "  <thead>\n",
       "    <tr style=\"text-align: right;\">\n",
       "      <th></th>\n",
       "      <th>temperature</th>\n",
       "      <th>windspeed</th>\n",
       "      <th>event</th>\n",
       "    </tr>\n",
       "    <tr>\n",
       "      <th>day</th>\n",
       "      <th></th>\n",
       "      <th></th>\n",
       "      <th></th>\n",
       "    </tr>\n",
       "  </thead>\n",
       "  <tbody>\n",
       "    <tr>\n",
       "      <th>2017-01-01</th>\n",
       "      <td>32</td>\n",
       "      <td>6</td>\n",
       "      <td>Rain</td>\n",
       "    </tr>\n",
       "    <tr>\n",
       "      <th>2017-01-02</th>\n",
       "      <td>35</td>\n",
       "      <td>7</td>\n",
       "      <td>Sunny</td>\n",
       "    </tr>\n",
       "    <tr>\n",
       "      <th>2017-01-03</th>\n",
       "      <td>28</td>\n",
       "      <td>2</td>\n",
       "      <td>Snow</td>\n",
       "    </tr>\n",
       "    <tr>\n",
       "      <th>2017-01-04</th>\n",
       "      <td>24</td>\n",
       "      <td>7</td>\n",
       "      <td>Snow</td>\n",
       "    </tr>\n",
       "    <tr>\n",
       "      <th>2017-01-05</th>\n",
       "      <td>32</td>\n",
       "      <td>4</td>\n",
       "      <td>Rain</td>\n",
       "    </tr>\n",
       "    <tr>\n",
       "      <th>2017-01-06</th>\n",
       "      <td>31</td>\n",
       "      <td>2</td>\n",
       "      <td>Sunny</td>\n",
       "    </tr>\n",
       "  </tbody>\n",
       "</table>\n",
       "</div>"
      ],
      "text/plain": [
       "            temperature  windspeed  event\n",
       "day                                      \n",
       "2017-01-01           32          6   Rain\n",
       "2017-01-02           35          7  Sunny\n",
       "2017-01-03           28          2   Snow\n",
       "2017-01-04           24          7   Snow\n",
       "2017-01-05           32          4   Rain\n",
       "2017-01-06           31          2  Sunny"
      ]
     },
     "execution_count": 208,
     "metadata": {},
     "output_type": "execute_result"
    }
   ],
   "source": [
    "# To convert day column into index\n",
    "df = pd.read_csv('weather_data.csv',parse_dates = ['day'])\n",
    "df.set_index('day', inplace = True)\n",
    "df"
   ]
  },
  {
   "cell_type": "code",
   "execution_count": null,
   "id": "73e7b435",
   "metadata": {},
   "outputs": [],
   "source": [
    "# to fill the places\n",
    "new_df = df.fillna({\n",
    "    'temperature':0,\n",
    "    'windspeed':0,\n",
    "    'event':'no event'\n",
    "})\n",
    "new_df"
   ]
  },
  {
   "cell_type": "code",
   "execution_count": null,
   "id": "0f1d1ad5",
   "metadata": {},
   "outputs": [],
   "source": [
    "# instead of 0 it will print the value of the previous element\n",
    "new_df = df.fillna(method ='ffill')\n",
    "new_df"
   ]
  },
  {
   "cell_type": "code",
   "execution_count": null,
   "id": "e27a77d0",
   "metadata": {},
   "outputs": [],
   "source": [
    "# instead of 0 it will print the value of the element after it\n",
    "# column indicates that the element is taken from the next element column-wise\n",
    "# limit only makes this happen those many times, in this case once\n",
    "new_df = df.fillna(method ='bfill',axis='column',limit = 1)\n",
    "new_df"
   ]
  },
  {
   "cell_type": "code",
   "execution_count": null,
   "id": "74da8901",
   "metadata": {},
   "outputs": [],
   "source": [
    "# This is to drop the column which contains no values\n",
    "new_df = df.dropna(how = 'all')\n",
    "new_df"
   ]
  },
  {
   "cell_type": "code",
   "execution_count": null,
   "id": "f2b49b40",
   "metadata": {},
   "outputs": [],
   "source": [
    "# Handling missing data\n",
    "''' First indexing, then fillna with 0, then can use methods like ffill(Forward value).\n",
    "bfill method is for backward value, axis provides with column or row option."
   ]
  },
  {
   "cell_type": "code",
   "execution_count": null,
   "id": "84b30152",
   "metadata": {},
   "outputs": [],
   "source": [
    "# To handle unique data\n",
    "''' We can use replace( , )'''\n",
    "new_df = df.replace('snow',np.NaN)    #Value you want to replace and with what value\n",
    "new_df"
   ]
  },
  {
   "cell_type": "code",
   "execution_count": null,
   "id": "c46cf435",
   "metadata": {},
   "outputs": [],
   "source": [
    "new_df = df.replace({\n",
    "    'temperature':value\n",
    "    'windspeed':value\n",
    "    'event':value\n",
    "},np.NaN)    #Value you want to replace and with what value\n",
    "new_df"
   ]
  },
  {
   "cell_type": "code",
   "execution_count": 214,
   "id": "337a3c19",
   "metadata": {},
   "outputs": [
    {
     "data": {
      "text/html": [
       "<div>\n",
       "<style scoped>\n",
       "    .dataframe tbody tr th:only-of-type {\n",
       "        vertical-align: middle;\n",
       "    }\n",
       "\n",
       "    .dataframe tbody tr th {\n",
       "        vertical-align: top;\n",
       "    }\n",
       "\n",
       "    .dataframe thead th {\n",
       "        text-align: right;\n",
       "    }\n",
       "</style>\n",
       "<table border=\"1\" class=\"dataframe\">\n",
       "  <thead>\n",
       "    <tr style=\"text-align: right;\">\n",
       "      <th></th>\n",
       "      <th>score</th>\n",
       "      <th>students</th>\n",
       "    </tr>\n",
       "  </thead>\n",
       "  <tbody>\n",
       "    <tr>\n",
       "      <th>0</th>\n",
       "      <td>exceptional</td>\n",
       "      <td>rob</td>\n",
       "    </tr>\n",
       "    <tr>\n",
       "      <th>1</th>\n",
       "      <td>average</td>\n",
       "      <td>maya</td>\n",
       "    </tr>\n",
       "    <tr>\n",
       "      <th>2</th>\n",
       "      <td>good</td>\n",
       "      <td>parvathi</td>\n",
       "    </tr>\n",
       "    <tr>\n",
       "      <th>3</th>\n",
       "      <td>poor</td>\n",
       "      <td>tom</td>\n",
       "    </tr>\n",
       "    <tr>\n",
       "      <th>4</th>\n",
       "      <td>average</td>\n",
       "      <td>julian</td>\n",
       "    </tr>\n",
       "    <tr>\n",
       "      <th>5</th>\n",
       "      <td>exceptional</td>\n",
       "      <td>erica</td>\n",
       "    </tr>\n",
       "  </tbody>\n",
       "</table>\n",
       "</div>"
      ],
      "text/plain": [
       "         score  students\n",
       "0  exceptional       rob\n",
       "1      average      maya\n",
       "2         good  parvathi\n",
       "3         poor       tom\n",
       "4      average    julian\n",
       "5  exceptional     erica"
      ]
     },
     "execution_count": 214,
     "metadata": {},
     "output_type": "execute_result"
    }
   ],
   "source": [
    "df = pd.DataFrame({\n",
    "    'score': ['exceptional','average','good','poor','average','exceptional'],\n",
    "    'students': ['rob','maya','parvathi','tom','julian','erica']\n",
    "})\n",
    "df"
   ]
  },
  {
   "cell_type": "code",
   "execution_count": 215,
   "id": "7134724c",
   "metadata": {},
   "outputs": [
    {
     "name": "stderr",
     "output_type": "stream",
     "text": [
      "/var/folders/h1/n_brrnn95rbgjntwcswbttnw0000gn/T/ipykernel_57935/4257800819.py:1: FutureWarning: Downcasting behavior in `replace` is deprecated and will be removed in a future version. To retain the old behavior, explicitly call `result.infer_objects(copy=False)`. To opt-in to the future behavior, set `pd.set_option('future.no_silent_downcasting', True)`\n",
      "  df_new = df.replace(['poor','average','good','exceptional'],[1,2,3,4])\n"
     ]
    },
    {
     "data": {
      "text/html": [
       "<div>\n",
       "<style scoped>\n",
       "    .dataframe tbody tr th:only-of-type {\n",
       "        vertical-align: middle;\n",
       "    }\n",
       "\n",
       "    .dataframe tbody tr th {\n",
       "        vertical-align: top;\n",
       "    }\n",
       "\n",
       "    .dataframe thead th {\n",
       "        text-align: right;\n",
       "    }\n",
       "</style>\n",
       "<table border=\"1\" class=\"dataframe\">\n",
       "  <thead>\n",
       "    <tr style=\"text-align: right;\">\n",
       "      <th></th>\n",
       "      <th>score</th>\n",
       "      <th>students</th>\n",
       "    </tr>\n",
       "  </thead>\n",
       "  <tbody>\n",
       "    <tr>\n",
       "      <th>0</th>\n",
       "      <td>4</td>\n",
       "      <td>rob</td>\n",
       "    </tr>\n",
       "    <tr>\n",
       "      <th>1</th>\n",
       "      <td>2</td>\n",
       "      <td>maya</td>\n",
       "    </tr>\n",
       "    <tr>\n",
       "      <th>2</th>\n",
       "      <td>3</td>\n",
       "      <td>parvathi</td>\n",
       "    </tr>\n",
       "    <tr>\n",
       "      <th>3</th>\n",
       "      <td>1</td>\n",
       "      <td>tom</td>\n",
       "    </tr>\n",
       "    <tr>\n",
       "      <th>4</th>\n",
       "      <td>2</td>\n",
       "      <td>julian</td>\n",
       "    </tr>\n",
       "    <tr>\n",
       "      <th>5</th>\n",
       "      <td>4</td>\n",
       "      <td>erica</td>\n",
       "    </tr>\n",
       "  </tbody>\n",
       "</table>\n",
       "</div>"
      ],
      "text/plain": [
       "   score  students\n",
       "0      4       rob\n",
       "1      2      maya\n",
       "2      3  parvathi\n",
       "3      1       tom\n",
       "4      2    julian\n",
       "5      4     erica"
      ]
     },
     "execution_count": 215,
     "metadata": {},
     "output_type": "execute_result"
    }
   ],
   "source": [
    "df_new = df.replace(['poor','average','good','exceptional'],[1,2,3,4])\n",
    "df_new"
   ]
  },
  {
   "cell_type": "code",
   "execution_count": 219,
   "id": "46203fc5",
   "metadata": {},
   "outputs": [
    {
     "data": {
      "text/plain": [
       "0    4\n",
       "1    2\n",
       "2    3\n",
       "3    1\n",
       "4    2\n",
       "5    4\n",
       "Name: score, dtype: int64"
      ]
     },
     "execution_count": 219,
     "metadata": {},
     "output_type": "execute_result"
    }
   ],
   "source": [
    "df_new['score']"
   ]
  },
  {
   "cell_type": "code",
   "execution_count": null,
   "id": "f1fd7870",
   "metadata": {},
   "outputs": [],
   "source": []
  },
  {
   "cell_type": "code",
   "execution_count": null,
   "id": "2fa63d5d",
   "metadata": {},
   "outputs": [],
   "source": []
  },
  {
   "cell_type": "code",
   "execution_count": null,
   "id": "cc586b16",
   "metadata": {},
   "outputs": [],
   "source": []
  },
  {
   "cell_type": "code",
   "execution_count": null,
   "id": "573d2499",
   "metadata": {},
   "outputs": [],
   "source": []
  }
 ],
 "metadata": {
  "kernelspec": {
   "display_name": "Python 3 (ipykernel)",
   "language": "python",
   "name": "python3"
  },
  "language_info": {
   "codemirror_mode": {
    "name": "ipython",
    "version": 3
   },
   "file_extension": ".py",
   "mimetype": "text/x-python",
   "name": "python",
   "nbconvert_exporter": "python",
   "pygments_lexer": "ipython3",
   "version": "3.11.3"
  }
 },
 "nbformat": 4,
 "nbformat_minor": 5
}
