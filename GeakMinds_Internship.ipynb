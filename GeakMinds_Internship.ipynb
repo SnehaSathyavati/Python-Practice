{
  "nbformat": 4,
  "nbformat_minor": 0,
  "metadata": {
    "colab": {
      "provenance": [],
      "toc_visible": true,
      "authorship_tag": "ABX9TyPFa7EeEncqfIht018nolm8",
      "include_colab_link": true
    },
    "kernelspec": {
      "name": "python3",
      "display_name": "Python 3"
    },
    "language_info": {
      "name": "python"
    }
  },
  "cells": [
    {
      "cell_type": "markdown",
      "metadata": {
        "id": "view-in-github",
        "colab_type": "text"
      },
      "source": [
        "<a href=\"https://colab.research.google.com/github/SnehaSathyavati/Python-Practice/blob/main/GeakMinds_Internship.ipynb\" target=\"_parent\"><img src=\"https://colab.research.google.com/assets/colab-badge.svg\" alt=\"Open In Colab\"/></a>"
      ]
    },
    {
      "cell_type": "code",
      "execution_count": null,
      "metadata": {
        "id": "qbV6sN1gTl59",
        "colab": {
          "base_uri": "https://localhost:8080/"
        },
        "outputId": "b3c83c90-e29a-48f7-bfbc-2b481b443f20"
      },
      "outputs": [
        {
          "output_type": "stream",
          "name": "stdout",
          "text": [
            "<class 'int'> <class 'str'> <class 'list'>\n",
            "<class 'float'> <class 'complex'>\n"
          ]
        }
      ],
      "source": [
        "num = 80\n",
        "str1 = \"Good Morning\"\n",
        "lst = ['Apple', ' Mango', ' Watermelon']\n",
        "print(type(num),type(str1),type(lst))\n",
        "num1 = 8.9\n",
        "num2 = 2j\n",
        "print(type(num1),type(num2))"
      ]
    },
    {
      "cell_type": "code",
      "source": [
        "tup1 = ('Red', 'Blue','Green')\n",
        "set1 = {1, 'Pasta', 2j}\n",
        "dict1 = { 'Italy':'Pasta', 'India':'Idli', 'Japan':'Ramen'}\n",
        "print(type(tup1),type(set1),type(dict1))"
      ],
      "metadata": {
        "colab": {
          "base_uri": "https://localhost:8080/"
        },
        "id": "9fk1iWvxJtXx",
        "outputId": "276a5ff0-b310-4c4d-8c7c-57ff16e3f534"
      },
      "execution_count": null,
      "outputs": [
        {
          "output_type": "stream",
          "name": "stdout",
          "text": [
            "<class 'tuple'> <class 'set'> <class 'dict'>\n"
          ]
        }
      ]
    },
    {
      "cell_type": "code",
      "source": [
        "# List is Mutable\n",
        "lst1 = ['Apple', ' Mango', ' Watermelon']\n",
        "lst1[1]= 'Strawberry'\n",
        "print(lst1)"
      ],
      "metadata": {
        "colab": {
          "base_uri": "https://localhost:8080/"
        },
        "id": "gnfnqXYGLE1X",
        "outputId": "3304c5e0-ae4e-423e-ad07-068c441ab282"
      },
      "execution_count": null,
      "outputs": [
        {
          "output_type": "stream",
          "name": "stdout",
          "text": [
            "['Apple', 'Strawberry', ' Watermelon']\n"
          ]
        }
      ]
    },
    {
      "cell_type": "code",
      "source": [
        "# Tuple is Immutable\n",
        "tup1 = ('Red', 'Blue','Green')\n",
        "tup1 = (1 , \"Yellow\", 8j)\n",
        "print(tup1)\n",
        "#tup1[2] = 'Yellow'\n",
        "#rint(tup1)"
      ],
      "metadata": {
        "colab": {
          "base_uri": "https://localhost:8080/"
        },
        "id": "77OHEgb2Lrol",
        "outputId": "afb9bb03-62f3-4a16-a4a8-9b788ad1ccb3"
      },
      "execution_count": null,
      "outputs": [
        {
          "output_type": "stream",
          "name": "stdout",
          "text": [
            "(1, 'Yellow', 8j)\n"
          ]
        }
      ]
    },
    {
      "cell_type": "code",
      "source": [
        "# String are Immutable\n",
        "str1 = \"Good Morning\"\n",
        "str1 = \"Python\"\n",
        "#str1[5]= \"N\"\n",
        "print(str1)\n",
        "print(str1[-2])"
      ],
      "metadata": {
        "colab": {
          "base_uri": "https://localhost:8080/"
        },
        "id": "YkUPoQjgMC1q",
        "outputId": "6484293b-c28f-4d21-e6a7-6a2e3511e3c6"
      },
      "execution_count": null,
      "outputs": [
        {
          "output_type": "stream",
          "name": "stdout",
          "text": [
            "Python\n",
            "o\n"
          ]
        }
      ]
    },
    {
      "cell_type": "code",
      "source": [
        "a = 25\n",
        "b = 20\n",
        "print(a*b, a/b, a%b, a**b, a//b)"
      ],
      "metadata": {
        "colab": {
          "base_uri": "https://localhost:8080/"
        },
        "id": "nudwB7AdNhN0",
        "outputId": "405fef57-2f49-4b02-dec4-c6d74f168c26"
      },
      "execution_count": null,
      "outputs": [
        {
          "output_type": "stream",
          "name": "stdout",
          "text": [
            "500 1.25 5 9094947017729282379150390625 1\n"
          ]
        }
      ]
    },
    {
      "cell_type": "code",
      "source": [
        "# Multi line strings\n",
        "''' I am\n",
        "Learning\n",
        "Python '''"
      ],
      "metadata": {
        "colab": {
          "base_uri": "https://localhost:8080/",
          "height": 35
        },
        "id": "lIXbJmmPPZu3",
        "outputId": "feb94b44-4dab-4e8c-f02c-d91c1643f515"
      },
      "execution_count": null,
      "outputs": [
        {
          "output_type": "execute_result",
          "data": {
            "text/plain": [
              "' I am\\nLearning\\nPython '"
            ],
            "application/vnd.google.colaboratory.intrinsic+json": {
              "type": "string"
            }
          },
          "metadata": {},
          "execution_count": 25
        }
      ]
    },
    {
      "cell_type": "code",
      "source": [
        "a = 10\n",
        "b = 20\n",
        "a != b"
      ],
      "metadata": {
        "colab": {
          "base_uri": "https://localhost:8080/"
        },
        "id": "CHB03sIKQFLg",
        "outputId": "32d00825-73c7-4ec4-ad24-77febe310049"
      },
      "execution_count": null,
      "outputs": [
        {
          "output_type": "execute_result",
          "data": {
            "text/plain": [
              "True"
            ]
          },
          "metadata": {},
          "execution_count": 27
        }
      ]
    },
    {
      "cell_type": "code",
      "source": [
        "# Slicing\n",
        "str1 = \"Good Morning\"\n",
        "str1[3:6]\n",
        "print(str1[1:2])\n",
        "print(str1[-1:-2])\n",
        "print(str1[-2:-1])"
      ],
      "metadata": {
        "colab": {
          "base_uri": "https://localhost:8080/"
        },
        "id": "kk1xFMA7QVi5",
        "outputId": "50b7134a-da38-452f-86e0-af0452a2c81b"
      },
      "execution_count": null,
      "outputs": [
        {
          "output_type": "stream",
          "name": "stdout",
          "text": [
            "o\n",
            "\n",
            "n\n"
          ]
        }
      ]
    },
    {
      "cell_type": "code",
      "source": [
        "# Prime Number Checker:\n",
        "# Check if a given number is prime or not.\n",
        "# Prime Number are numbers which can be divisible only by 1 and the number itself.\n",
        "num = int(input(\"Enter the Number: \"))\n",
        "if num == 0 or num == 1:\n",
        "  print(\"The number is not a prime number.\")\n",
        "elif num > 1:\n",
        "  for i in range(2,num):\n",
        "    if (num%i) == 0:\n",
        "      print(\"The number is not a prime number.\")\n",
        "      break\n",
        "  else:\n",
        "    print(\"The number is a prime number.\")\n",
        "else:\n",
        "  print(\"The number is not a prime number.\")\n"
      ],
      "metadata": {
        "colab": {
          "base_uri": "https://localhost:8080/"
        },
        "id": "r3zLfFeiQtB2",
        "outputId": "d685e50c-0ba2-43f2-a42d-89501f4c7905"
      },
      "execution_count": null,
      "outputs": [
        {
          "output_type": "stream",
          "name": "stdout",
          "text": [
            "Enter the Number: 5\n",
            "The number is a prime number.\n"
          ]
        }
      ]
    },
    {
      "cell_type": "code",
      "source": [
        "# Leap Year Checker:\n",
        "# Determine if a given year is a leap year.\n",
        "# Leap Year comes every 4 years.\n",
        "num = int(input(\"Enter the Year: \"))\n",
        "if (num%400 == 0) and (num%100 == 0):\n",
        "  print(\"It is a Leap year.\")\n",
        "elif (num%4 == 0) and (num%100 != 0):\n",
        "  print(\"It is a Leap year.\")\n",
        "else:\n",
        "  print(\"It is not a Leap year\")\n"
      ],
      "metadata": {
        "colab": {
          "base_uri": "https://localhost:8080/"
        },
        "id": "DfDj5WC6uOEI",
        "outputId": "8a35e517-ca14-4a42-fcb6-c18db510cbdc"
      },
      "execution_count": null,
      "outputs": [
        {
          "output_type": "stream",
          "name": "stdout",
          "text": [
            "Enter the Year: 2000\n",
            "It is a Leap year.\n"
          ]
        }
      ]
    },
    {
      "cell_type": "code",
      "source": [
        "# Largest of Three Numbers:\n",
        "# Find the largest number among three inputs.\n",
        "Num1 = int(input(\"Enter the num\"))\n",
        "Num2 = int(input(\"Enter the num\"))\n",
        "Num3 = int(input(\"Enter the num\"))\n",
        "if (Num1 > Num2) and (Num1 > Num3):\n",
        "  print(\"Num1 is Greater\")\n",
        "elif (Num2 > Num1) and (Num2 > Num3):\n",
        "  print(\"Num2 is Greatest\")\n",
        "else:\n",
        "  print(Num3,\"is Greatest\")"
      ],
      "metadata": {
        "colab": {
          "base_uri": "https://localhost:8080/"
        },
        "id": "c8-FEQc7xRZ9",
        "outputId": "9037a9e1-d7bb-4652-a123-a3fd20d0f312"
      },
      "execution_count": null,
      "outputs": [
        {
          "output_type": "stream",
          "name": "stdout",
          "text": [
            "Enter the num10\n",
            "Enter the num20\n",
            "Enter the num30\n",
            "30  is Greatest\n"
          ]
        }
      ]
    },
    {
      "cell_type": "code",
      "source": [
        "# Grading System:\n",
        "# Convert marks into grades based on given conditions (e.g., 90+ is A).\n",
        "Grade = int(input(\"Enter the Grade: \"))\n",
        "if Grade >= 60:\n",
        "  print(\"The Grade is D\")\n",
        "elif Grade >= 70:\n",
        "  print(\"The Grade is C\")\n",
        "elif Grade >= 80:\n",
        "  print(\"The Grade is B\")\n",
        "elif Grade >= 90:\n",
        "  print(\"The Grade is A\")\n",
        "else:\n",
        "  print(\"The Grade is F\")"
      ],
      "metadata": {
        "colab": {
          "base_uri": "https://localhost:8080/"
        },
        "id": "JRZnHHjV0Bkz",
        "outputId": "1ad9061e-37b6-4bbb-b5b7-d89d53186cbf"
      },
      "execution_count": null,
      "outputs": [
        {
          "output_type": "stream",
          "name": "stdout",
          "text": [
            "Enter the Grade: 85\n",
            "The Grade is D\n"
          ]
        }
      ]
    },
    {
      "cell_type": "code",
      "source": [
        "# Triangle Validity:\n",
        "# Check if three given sides can form a valid triangle.       ## Correction\n",
        "Num1 = int(input(\"Enter the num\"))\n",
        "Num2 = int(input(\"Enter the num\"))\n",
        "Num3 = int(input(\"Enter the num\"))\n",
        "if Num1+Num2+Num3 == 180:\n",
        "  print(\"Valid\")\n",
        "else:\n",
        "  print(\"Invalid\")"
      ],
      "metadata": {
        "colab": {
          "base_uri": "https://localhost:8080/"
        },
        "id": "aqvTjFrN2LNk",
        "outputId": "0218449c-c8cf-493d-b25a-806022a76ddd"
      },
      "execution_count": null,
      "outputs": [
        {
          "output_type": "stream",
          "name": "stdout",
          "text": [
            "Enter the num70\n",
            "Enter the num50\n",
            "Enter the num60\n",
            "Valid\n"
          ]
        }
      ]
    },
    {
      "cell_type": "code",
      "source": [
        "Num1 = int(input(\"Enter the num\"))\n",
        "Num2 = int(input(\"Enter the num\"))\n",
        "Num3 = int(input(\"Enter the num\"))\n",
        "if Num1+Num2 > Num3:\n",
        "  print(\"Valid\")\n",
        "elif Num2+Num3 > Num1:\n",
        "  print(\"Valid\")\n",
        "elif Num3+Num1 > Num2:\n",
        "  print(\"Valid\")\n",
        "else:\n",
        "  print(\"Not Valid\")"
      ],
      "metadata": {
        "colab": {
          "base_uri": "https://localhost:8080/"
        },
        "id": "dUsdRqFyIFNl",
        "outputId": "45ce9a80-fbf5-45d2-96da-ba60198f1b87"
      },
      "execution_count": null,
      "outputs": [
        {
          "output_type": "stream",
          "name": "stdout",
          "text": [
            "Enter the num10\n",
            "Enter the num20\n",
            "Enter the num35\n",
            "Valid\n"
          ]
        }
      ]
    },
    {
      "cell_type": "code",
      "source": [
        "# Palindrome Number:\n",
        "# Check if a given number is a palindrome\n",
        "num = int(input(\"Enter the num\"))\n",
        "reversed = int(str(num)[::-1])\n",
        "if num == reversed:\n",
        "  print(\"The Number is palindromic.\")\n",
        "else:\n",
        "  print(\"The Number is not palindromic.\")"
      ],
      "metadata": {
        "colab": {
          "base_uri": "https://localhost:8080/"
        },
        "id": "Ks30VGCM5Xdw",
        "outputId": "8606654f-34de-456b-bd8a-6b835b503985"
      },
      "execution_count": null,
      "outputs": [
        {
          "output_type": "stream",
          "name": "stdout",
          "text": [
            "Enter the num12344321\n",
            "The Number is palindromic.\n"
          ]
        }
      ]
    },
    {
      "cell_type": "code",
      "source": [
        "# Armstrong Number:\n",
        "# Verify if a number is an Armstrong number.\n",
        "# sum of individual digits, to the power to its len\n",
        "num = input(\"Enter the num: \")\n",
        "num1 = 0\n",
        "for i in num:\n",
        "  num1 = num1 + int(i)**len(num)\n",
        "if int(num) == num1:\n",
        "  print(\"Valid\")\n",
        "else:\n",
        "  print(\"Invalid\")"
      ],
      "metadata": {
        "colab": {
          "base_uri": "https://localhost:8080/"
        },
        "id": "SzRHD_kCQdoK",
        "outputId": "e94db285-80c5-4d07-a187-3f8d455ab2a7"
      },
      "execution_count": null,
      "outputs": [
        {
          "output_type": "stream",
          "name": "stdout",
          "text": [
            "Enter the num: 153\n",
            "1\n",
            "125\n",
            "27\n",
            "Invalid\n"
          ]
        }
      ]
    },
    {
      "cell_type": "code",
      "source": [
        "a = input(\"Enter number \")\n",
        "print(type(a))"
      ],
      "metadata": {
        "colab": {
          "base_uri": "https://localhost:8080/"
        },
        "id": "mGQcKL52U0__",
        "outputId": "a18457c4-9c18-4ad1-bfb6-9a788e80d3ed"
      },
      "execution_count": null,
      "outputs": [
        {
          "output_type": "stream",
          "name": "stdout",
          "text": [
            "Enter number 123\n",
            "<class 'str'>\n"
          ]
        }
      ]
    },
    {
      "cell_type": "code",
      "source": [
        "# Sum of Even and Odd Numbers:\n",
        "# Calculate the sum of even and odd numbers in a given range.\n",
        "num = int(input(\"Enter the num: \"))\n",
        "if num % 2 == 0:\n",
        "  print(\"Even\")\n",
        "else:\n",
        "  print(\"Odd\")"
      ],
      "metadata": {
        "colab": {
          "base_uri": "https://localhost:8080/"
        },
        "id": "-JayhfXHTRbz",
        "outputId": "957dc997-37c1-471d-d761-9b0b72b28991"
      },
      "execution_count": null,
      "outputs": [
        {
          "output_type": "stream",
          "name": "stdout",
          "text": [
            "Enter the num: 12\n",
            "Even\n"
          ]
        }
      ]
    },
    {
      "cell_type": "code",
      "source": [
        "# Fibonacci Sequence:\n",
        "# Generate a Fibonacci sequence up to a specified number of terms.\n",
        "num = int(input(\"Enter the num: \"))\n",
        "n1 , n2 = 0,1\n",
        "count = 0\n",
        "if num <= 0:\n",
        "  print(\"Enter Positive number\")\n",
        "elif num == 1:\n",
        "  print(\"The Fibonacci Sequence of 1 is 1\")\n",
        "else:\n",
        "  print(\"Fibonacci Sequence\")\n",
        "  while count<num:\n",
        "    print(n1)\n",
        "    nth = n1 + n2\n",
        "    n1 = n2\n",
        "    n2 = nth\n",
        "    count += 1\n"
      ],
      "metadata": {
        "colab": {
          "base_uri": "https://localhost:8080/"
        },
        "id": "AdZDMH3ibsUA",
        "outputId": "43ce5e92-afda-42c2-9132-a4e45cebdf85"
      },
      "execution_count": null,
      "outputs": [
        {
          "output_type": "stream",
          "name": "stdout",
          "text": [
            "Enter the num: 7\n",
            "Fibonacci Sequence\n",
            "0\n",
            "1\n",
            "1\n",
            "2\n",
            "3\n",
            "5\n",
            "8\n"
          ]
        }
      ]
    },
    {
      "cell_type": "code",
      "source": [
        "# Factorial Calculator:\n",
        "# Compute the factorial of a given number using conditional logic.\n",
        "num = int(input(\"Enter the num: \"))\n",
        "factorial = 1\n",
        "if num == 0:\n",
        "  print(\"Please enter positive number.\")\n",
        "elif num == 1:\n",
        "  print(\"Factorial of 1 is 1.\")\n",
        "else:\n",
        "  for i in range(1,num+1):\n",
        "    factorial*= i                   # equavalent to factorial = factorial*i\n",
        "  print(\"The factorial of\",num,\"is:\",factorial)"
      ],
      "metadata": {
        "colab": {
          "base_uri": "https://localhost:8080/"
        },
        "id": "r1CZa9WmeRmF",
        "outputId": "d7d62eaf-8931-4dd2-ee14-f6070d092c03"
      },
      "execution_count": null,
      "outputs": [
        {
          "output_type": "stream",
          "name": "stdout",
          "text": [
            "Enter the num: 4\n",
            "The factorial of 4 is: 24\n"
          ]
        }
      ]
    },
    {
      "cell_type": "code",
      "source": [
        "# String\n",
        "# Reverse a String:\n",
        "# Reverse a given string without using slicing.\n",
        "str1 = input(\"Enter the string: \")\n",
        "str2 = str1 [::-1]\n",
        "print(str2)"
      ],
      "metadata": {
        "colab": {
          "base_uri": "https://localhost:8080/"
        },
        "id": "atISuscef7H7",
        "outputId": "73a776cd-ea87-4e07-9d1b-51d3aef8c0d4"
      },
      "execution_count": null,
      "outputs": [
        {
          "output_type": "stream",
          "name": "stdout",
          "text": [
            "Enter the string: madam\n",
            "madam\n"
          ]
        }
      ]
    },
    {
      "cell_type": "code",
      "source": [
        "# Count Vowels and Consonants:\n",
        "# Count the number of vowels and consonants in a string.\n",
        "str1 = \"Good Morning\"\n",
        "count_vowel = 0\n",
        "count_conso = 0\n",
        "vowels = ['a','e','i','o','u','A','E','I','O','U']\n",
        "for i in str1:\n",
        "  if i in vowels:\n",
        "    count_vowel+=1\n",
        "\n",
        "  else:\n",
        "    count_conso += 1\n",
        "\n",
        "print(count_conso)\n",
        "print(count_vowel)"
      ],
      "metadata": {
        "colab": {
          "base_uri": "https://localhost:8080/"
        },
        "id": "ilcSx44vOfrP",
        "outputId": "f9aadef5-9526-40e5-a1ca-24dc26543e1e"
      },
      "execution_count": null,
      "outputs": [
        {
          "output_type": "stream",
          "name": "stdout",
          "text": [
            "8\n",
            "4\n"
          ]
        }
      ]
    },
    {
      "cell_type": "code",
      "source": [
        "# Check Substring:\n",
        "# Check if one string is a substring of another.\n",
        "str1 = input(\"Enter the Sentence\")\n",
        "substring = input()\n",
        "if substring in str1:\n",
        "  print(\"It is a Substring\")\n",
        "else:\n",
        "  print(\"It is not not a Substring\")"
      ],
      "metadata": {
        "colab": {
          "base_uri": "https://localhost:8080/"
        },
        "id": "b2LPUbANRAfR",
        "outputId": "c3e8d44e-e7e3-4de5-d10f-2274a368eda2"
      },
      "execution_count": null,
      "outputs": [
        {
          "output_type": "stream",
          "name": "stdout",
          "text": [
            "Enter the SentenceI love python\n",
            "love\n",
            "It is a Substring\n"
          ]
        }
      ]
    },
    {
      "cell_type": "code",
      "source": [
        "# String Anagram Check:\n",
        "# Determine if two strings are anagrams of each other.\n",
        "str1 = input(\"Enter the Sentence: \")\n",
        "str2 = input(\"Enter the Sentence: \")\n",
        "if (sorted(str1) == sorted(str2)):\n",
        "  print(\"Anagram\")\n",
        "else:\n",
        "  print(\"Not Anagram\")"
      ],
      "metadata": {
        "colab": {
          "base_uri": "https://localhost:8080/"
        },
        "id": "sgvOmXMKZ7Zj",
        "outputId": "dc5ef856-b4f0-4a0e-f60b-f92f3ac32588"
      },
      "execution_count": null,
      "outputs": [
        {
          "output_type": "stream",
          "name": "stdout",
          "text": [
            "Enter the Sentence: silent\n",
            "Enter the Sentence: listenall\n",
            "Not Anagram\n"
          ]
        }
      ]
    },
    {
      "cell_type": "code",
      "source": [
        "# Remove Duplicates:\n",
        "# Remove duplicate characters from a string.\n",
        "str1 = input(\"Enter the Sentence: \")\n",
        "temp = ' '\n",
        "for i in str1:\n",
        "  if i not in temp:\n",
        "     temp = temp + i\n",
        "print(temp)"
      ],
      "metadata": {
        "colab": {
          "base_uri": "https://localhost:8080/"
        },
        "id": "gK_Aq5U_hy2D",
        "outputId": "410daca9-1e9b-4174-82b3-9455e2563e7b"
      },
      "execution_count": null,
      "outputs": [
        {
          "output_type": "stream",
          "name": "stdout",
          "text": [
            "Enter the Sentence: malyalam\n",
            " maly\n"
          ]
        }
      ]
    },
    {
      "cell_type": "code",
      "source": [
        "# Longest Word in a Sentence:\n",
        "# Find the longest word in a given sentence.\n",
        "str1 = input(\"Enter the Sentence: \")\n",
        "y = 0\n",
        "a = max(str1.split(), key=len)\n",
        "print(a)\n"
      ],
      "metadata": {
        "colab": {
          "base_uri": "https://localhost:8080/"
        },
        "id": "9giltAvAlmjU",
        "outputId": "6fc5be69-b3c7-407d-f231-c991f685aa26"
      },
      "execution_count": null,
      "outputs": [
        {
          "output_type": "stream",
          "name": "stdout",
          "text": [
            "Enter the Sentence: astrazenica is not good\n",
            "astrazenica\n"
          ]
        }
      ]
    },
    {
      "cell_type": "code",
      "source": [
        "# Character Frequency:\n",
        "# Count the frequency of each character in a string.\n",
        "str1 = input(\"Enter the Sentence: \")\n",
        "freq = { }\n",
        "for i in str1:\n",
        "  if i in freq:\n",
        "    freq[i] += 1\n",
        "  else:\n",
        "    freq[i] = 1\n",
        "print(freq)"
      ],
      "metadata": {
        "colab": {
          "base_uri": "https://localhost:8080/"
        },
        "id": "Ap_Wu7OwmGhH",
        "outputId": "1a7d58cf-32f4-4b65-c37e-b653bd1dd0c3"
      },
      "execution_count": null,
      "outputs": [
        {
          "output_type": "stream",
          "name": "stdout",
          "text": [
            "Enter the Sentence: I love SNEHA\n",
            "{'I': 1, ' ': 2, 'l': 1, 'o': 1, 'v': 1, 'e': 1, 'S': 1, 'N': 1, 'E': 1, 'H': 1, 'A': 1}\n"
          ]
        }
      ]
    },
    {
      "cell_type": "code",
      "source": [
        "# First Non-Repeating Character:\n",
        "# Find the first non-repeating character in a string.\n"
      ],
      "metadata": {
        "id": "bxhu7aqdorqg"
      },
      "execution_count": null,
      "outputs": []
    },
    {
      "cell_type": "code",
      "source": [
        "# Title Case Conversion:\n",
        "# Convert a string to title case (e.g., \"hello world\" → \"Hello World\").\n",
        "str1 = \"hello world\"\n",
        "a = str1.split()\n",
        "for i in a:\n",
        "  print(i.capitalize())"
      ],
      "metadata": {
        "colab": {
          "base_uri": "https://localhost:8080/"
        },
        "id": "4KXmU6BlvH29",
        "outputId": "08b6314e-1102-4b29-e4eb-aa381dac34d0"
      },
      "execution_count": null,
      "outputs": [
        {
          "output_type": "stream",
          "name": "stdout",
          "text": [
            "Hello\n",
            "World\n"
          ]
        }
      ]
    },
    {
      "cell_type": "code",
      "source": [
        "str1 = \"hello world\"\n",
        "str1.title()"
      ],
      "metadata": {
        "colab": {
          "base_uri": "https://localhost:8080/",
          "height": 35
        },
        "id": "OKX7LKxSca_r",
        "outputId": "5f8f7d86-3830-42e1-afe9-2eb237889dab"
      },
      "execution_count": null,
      "outputs": [
        {
          "output_type": "execute_result",
          "data": {
            "text/plain": [
              "'Hello World'"
            ],
            "application/vnd.google.colaboratory.intrinsic+json": {
              "type": "string"
            }
          },
          "metadata": {},
          "execution_count": 111
        }
      ]
    },
    {
      "cell_type": "code",
      "source": [
        "# Palindrome Check:\n",
        "# Check if a given string is a palindrome.\n",
        "str1 = input(\"Enter the Sentence: \")\n",
        "if str1 == str1[::-1]:\n",
        "  print(\"Palindromic\")\n",
        "else:\n",
        "  print(\"Not palintromic\")"
      ],
      "metadata": {
        "colab": {
          "base_uri": "https://localhost:8080/"
        },
        "id": "_0UwDz09vQLT",
        "outputId": "5dbc602e-c319-4274-9522-dde5405736e5"
      },
      "execution_count": null,
      "outputs": [
        {
          "output_type": "stream",
          "name": "stdout",
          "text": [
            "Enter the Sentence: malayalam\n",
            "Palindromic\n"
          ]
        }
      ]
    },
    {
      "cell_type": "code",
      "source": [
        "# List\n",
        "# Find Maximum and Minimum:\n",
        "# Find the largest and smallest numbers in a list.\n",
        "lst1 = [1,2,3,4,2,7,30,55,5,6,7,8]\n",
        "print(min(lst1))\n",
        "print(max(lst1))"
      ],
      "metadata": {
        "colab": {
          "base_uri": "https://localhost:8080/"
        },
        "id": "VWNUIHW60eFU",
        "outputId": "e7ea0178-8945-4fe4-b1ce-8833c99ecfc5"
      },
      "execution_count": null,
      "outputs": [
        {
          "output_type": "stream",
          "name": "stdout",
          "text": [
            "1\n",
            "55\n"
          ]
        }
      ]
    },
    {
      "cell_type": "code",
      "source": [
        "# List Reversal:\n",
        "# Reverse a list without using the reverse() method.\n",
        "lst1 = [1,2,3,4,5,6,7,8]\n",
        "lst2 = [ ]\n",
        "for i in lst1:\n",
        "  lst2.insert(0,i)                      # why append does not work\n",
        "print(lst2)\n"
      ],
      "metadata": {
        "colab": {
          "base_uri": "https://localhost:8080/"
        },
        "id": "ZSlKH9E05i6_",
        "outputId": "730925b1-ff8a-457f-ab2d-92452091853f"
      },
      "execution_count": null,
      "outputs": [
        {
          "output_type": "stream",
          "name": "stdout",
          "text": [
            "[8, 7, 6, 5, 4, 3, 2, 1]\n"
          ]
        }
      ]
    },
    {
      "cell_type": "code",
      "source": [
        "# Remove Duplicates from List:\n",
        "# Remove duplicates from a list while maintaining order.\n",
        "lst1 = [1,2,2,3,4,5,6,3,7,1,2,7,8]\n",
        "lst2 = []\n",
        "for i in lst1:\n",
        "  if i not in lst2:\n",
        "    lst2.append(i)\n",
        "print(lst2)"
      ],
      "metadata": {
        "colab": {
          "base_uri": "https://localhost:8080/"
        },
        "id": "iV7MW9s56Efr",
        "outputId": "f45697db-ecb7-4658-df92-0fd7ce6bae6b"
      },
      "execution_count": null,
      "outputs": [
        {
          "output_type": "stream",
          "name": "stdout",
          "text": [
            "[1, 2, 3, 4, 5, 6, 7, 8]\n"
          ]
        }
      ]
    },
    {
      "cell_type": "code",
      "source": [
        "# List Rotation:\n",
        "# Rotate a list by a given number of positions.\n",
        "import random\n",
        "lst1 = [1,2,3,4,5,6,7,8]\n",
        "random.shuffle(lst1)     #try using loop\n",
        "print(lst1)"
      ],
      "metadata": {
        "colab": {
          "base_uri": "https://localhost:8080/"
        },
        "id": "k-FrlNhs-zFY",
        "outputId": "4e605a09-5a1f-41d4-e022-6d5327183905"
      },
      "execution_count": null,
      "outputs": [
        {
          "output_type": "stream",
          "name": "stdout",
          "text": [
            "[7, 4, 3, 6, 2, 5, 1, 8]\n"
          ]
        }
      ]
    },
    {
      "cell_type": "code",
      "source": [
        "import random\n",
        "lst1 = [1,2,3,4,5,6,7,8]\n",
        "lst2 = []\n",
        "for i in range(0,len(lst1)):\n",
        "  random.shuffle(lst1)\n",
        "  lst2.append(lst1)\n",
        "print(lst2)"
      ],
      "metadata": {
        "colab": {
          "base_uri": "https://localhost:8080/"
        },
        "id": "k64SiSWC6IzP",
        "outputId": "f608590c-c0ec-484a-a0b2-0a9f037628de"
      },
      "execution_count": null,
      "outputs": [
        {
          "output_type": "stream",
          "name": "stdout",
          "text": [
            "[[8, 2, 1, 4, 3, 6, 7, 5], [8, 2, 1, 4, 3, 6, 7, 5], [8, 2, 1, 4, 3, 6, 7, 5], [8, 2, 1, 4, 3, 6, 7, 5], [8, 2, 1, 4, 3, 6, 7, 5], [8, 2, 1, 4, 3, 6, 7, 5], [8, 2, 1, 4, 3, 6, 7, 5], [8, 2, 1, 4, 3, 6, 7, 5]]\n"
          ]
        }
      ]
    },
    {
      "cell_type": "code",
      "source": [
        "# Find Common Elements:\n",
        "# Find common elements between two lists.\n",
        "lst1 = [1,2,3,4,5,6,7,8]\n",
        "lst2 = [5,6,7,8,9,10,11,12]\n",
        "lst3 = []\n",
        "for i in lst1:\n",
        "  if i in lst2:\n",
        "   lst3.append(i)\n",
        "print(lst3)"
      ],
      "metadata": {
        "colab": {
          "base_uri": "https://localhost:8080/"
        },
        "id": "mbXPezzl_FQQ",
        "outputId": "319dd75c-5def-4655-e5b8-4ee2ae8dd5a1"
      },
      "execution_count": null,
      "outputs": [
        {
          "output_type": "stream",
          "name": "stdout",
          "text": [
            "[5, 6, 7, 8]\n"
          ]
        }
      ]
    },
    {
      "cell_type": "code",
      "source": [
        "# List Sorting without Built-in Methods:\n",
        "# Sort a list without using Python's built-in sort().\n",
        "lst1 = [10,4,7,3,9,5,2,5,6]\n",
        "lst1.sort()\n",
        "print(lst1)"
      ],
      "metadata": {
        "colab": {
          "base_uri": "https://localhost:8080/"
        },
        "id": "v5c-nWIuASHa",
        "outputId": "cf9f4a60-be7f-468e-d687-7548979dd13e"
      },
      "execution_count": null,
      "outputs": [
        {
          "output_type": "stream",
          "name": "stdout",
          "text": [
            "[2, 3, 4, 5, 5, 6, 7, 9, 10]\n"
          ]
        }
      ]
    },
    {
      "cell_type": "code",
      "source": [
        "# Pair with Sum:\n",
        "# Find all pairs in a list whose sum equals a given number.\n",
        "lst1 = [1,2,3,4,5,6,7,8]\n",
        "lst2 = 6\n",
        "p = set(lst1)\n",
        "print(p)"
      ],
      "metadata": {
        "colab": {
          "base_uri": "https://localhost:8080/"
        },
        "id": "z1EIfIvUBEht",
        "outputId": "39fd52b0-1f06-4139-e2e7-105bd0be01ea"
      },
      "execution_count": null,
      "outputs": [
        {
          "output_type": "stream",
          "name": "stdout",
          "text": [
            "{1, 2, 3, 4, 5, 6, 7, 8}\n"
          ]
        }
      ]
    },
    {
      "cell_type": "code",
      "source": [
        "# Second Largest Element:\n",
        "# Find the second largest element in a list.\n",
        "lst1 = [1,2,3,4,5,6,7,8]\n",
        "lst1.sort()\n",
        "print(\"The second largest number is \",lst1[-2])"
      ],
      "metadata": {
        "colab": {
          "base_uri": "https://localhost:8080/"
        },
        "id": "oZnm-baMBrWF",
        "outputId": "a4f0cd37-e949-46c0-e92c-54891b5090f1"
      },
      "execution_count": null,
      "outputs": [
        {
          "output_type": "stream",
          "name": "stdout",
          "text": [
            "The second largest number is  7\n"
          ]
        }
      ]
    },
    {
      "cell_type": "code",
      "source": [
        "# Cumulative Sum:\n",
        "# Create a new list where each element is the cumulative sum of the original list.\n",
        "lst1 = [10,15,20,25,30,35]\n",
        "lst2 = []\n",
        "y = 0\n",
        "for i in range(0,len(lst1)):\n",
        "  y += lst1[i]\n",
        "  lst2.append(y)\n",
        "print(lst2)"
      ],
      "metadata": {
        "colab": {
          "base_uri": "https://localhost:8080/"
        },
        "id": "TDzjX1WSJ3b2",
        "outputId": "32fc45ce-d097-4748-d83c-545859365929"
      },
      "execution_count": null,
      "outputs": [
        {
          "output_type": "stream",
          "name": "stdout",
          "text": [
            "[10, 25, 45, 70, 100, 135]\n"
          ]
        }
      ]
    },
    {
      "cell_type": "code",
      "source": [
        "l = [1,2,3,4]\n",
        "y = []\n",
        "for i in l:\n",
        "  y.append(l[-1])\n",
        "y = l[-1] + str(l[0:-1:1])\n",
        "print(y)"
      ],
      "metadata": {
        "colab": {
          "base_uri": "https://localhost:8080/"
        },
        "id": "g5FGXBXYmjTg",
        "outputId": "d1ecc545-1906-4709-9488-df2976d1ae64"
      },
      "execution_count": null,
      "outputs": [
        {
          "output_type": "stream",
          "name": "stdout",
          "text": [
            "[4, 4, 4, 4]\n"
          ]
        }
      ]
    },
    {
      "cell_type": "code",
      "source": [
        "l = [1,2,3,4]\n",
        "y = []\n",
        "l[0:-1:1]\n"
      ],
      "metadata": {
        "colab": {
          "base_uri": "https://localhost:8080/"
        },
        "id": "J03XU83qtUtU",
        "outputId": "d17a2031-bae0-4af6-b94a-7df992fa8dcb"
      },
      "execution_count": null,
      "outputs": [
        {
          "output_type": "execute_result",
          "data": {
            "text/plain": [
              "[1, 2, 3]"
            ]
          },
          "metadata": {},
          "execution_count": 42
        }
      ]
    },
    {
      "cell_type": "code",
      "source": [
        "l = [1,2,3,4]\n",
        "str(l)\n",
        "y = ' '\n",
        "a = [l[-1]]\n",
        "b = l[0:-1:1]\n",
        "y = a+b\n",
        "print(y)"
      ],
      "metadata": {
        "colab": {
          "base_uri": "https://localhost:8080/"
        },
        "id": "KbK4sPTfvs8c",
        "outputId": "260965be-84ab-4660-f3bb-918fcde50d4c"
      },
      "execution_count": null,
      "outputs": [
        {
          "output_type": "stream",
          "name": "stdout",
          "text": [
            "[4, 1, 2, 3]\n"
          ]
        }
      ]
    },
    {
      "cell_type": "code",
      "source": [
        "l = [1,2,3,4]\n",
        "y = ' '\n",
        "a = l[3:]\n",
        "b = l[:3]\n",
        "y = a+b\n",
        "print(y)"
      ],
      "metadata": {
        "colab": {
          "base_uri": "https://localhost:8080/"
        },
        "id": "zpyODV1Kwtf-",
        "outputId": "077ad6ea-58fc-4f85-a0f5-e7a1b24275ac"
      },
      "execution_count": null,
      "outputs": [
        {
          "output_type": "stream",
          "name": "stdout",
          "text": [
            "[4, 1, 2, 3]\n"
          ]
        }
      ]
    },
    {
      "cell_type": "code",
      "source": [
        "l = [1,2,3,4]\n",
        "l = l[3:] + l[:3]\n",
        "print(l)\n",
        "l = l[3:] + l[:3]\n",
        "print(l)"
      ],
      "metadata": {
        "colab": {
          "base_uri": "https://localhost:8080/"
        },
        "id": "kDnrHQKeyIx9",
        "outputId": "5c842c8c-7607-43aa-c66a-7e5706ac7d60"
      },
      "execution_count": null,
      "outputs": [
        {
          "output_type": "stream",
          "name": "stdout",
          "text": [
            "[4, 1, 2, 3]\n",
            "[3, 4, 1, 2]\n"
          ]
        }
      ]
    },
    {
      "cell_type": "code",
      "source": [
        "lst = list(map(int, input(\"Enter list elements: \").split())).  # syntax to taking input of list elements in single line with space inbtw\n",
        "k = int(input(\"Enter rotation count: \"))\n",
        "rotated = lst[k:] + lst[:k]\n",
        "print(\"Rotated list:\", rotated)"
      ],
      "metadata": {
        "colab": {
          "base_uri": "https://localhost:8080/"
        },
        "id": "91rFmaDok9Fv",
        "outputId": "bae0ffe8-abf3-421a-c469-132bd50e848d"
      },
      "execution_count": null,
      "outputs": [
        {
          "output_type": "stream",
          "name": "stdout",
          "text": [
            "Enter list elements: 1 3 5 6\n",
            "Enter rotation count: 2\n",
            "Rotated list: [5, 6, 1, 3]\n"
          ]
        }
      ]
    },
    {
      "cell_type": "code",
      "source": [
        "dict1 = {\"Rob\":10, \"Tom\": 15, \"Joe\": 11}\n",
        "for key in dict1:\n",
        "   print(dict1[key])"
      ],
      "metadata": {
        "colab": {
          "base_uri": "https://localhost:8080/"
        },
        "id": "1GVTE9jQ0m_m",
        "outputId": "04fe5927-6ae9-42e1-c81d-f0eaf9322c30"
      },
      "execution_count": null,
      "outputs": [
        {
          "output_type": "stream",
          "name": "stdout",
          "text": [
            "10\n",
            "15\n",
            "11\n"
          ]
        }
      ]
    },
    {
      "cell_type": "code",
      "source": [
        "dict1 = {\"Rob\":10, \"Tom\": 15, \"Joe\": 11}\n",
        "for k,v in dict1.items():\n",
        "  print(k,v)"
      ],
      "metadata": {
        "colab": {
          "base_uri": "https://localhost:8080/"
        },
        "id": "vp8TvrNK2yRR",
        "outputId": "117e96df-9245-4369-b986-551325980258"
      },
      "execution_count": null,
      "outputs": [
        {
          "output_type": "stream",
          "name": "stdout",
          "text": [
            "Rob 10\n",
            "Tom 15\n",
            "Joe 11\n"
          ]
        }
      ]
    },
    {
      "cell_type": "code",
      "source": [
        "def sum(a,b):\n",
        "  n = a+b\n",
        "  return n\n",
        "\n",
        "sum(10,66)"
      ],
      "metadata": {
        "colab": {
          "base_uri": "https://localhost:8080/"
        },
        "id": "Dtj78ajWwlsr",
        "outputId": "b06d48b7-2b68-4fcd-b022-c091677bca23"
      },
      "execution_count": null,
      "outputs": [
        {
          "output_type": "execute_result",
          "data": {
            "text/plain": [
              "76"
            ]
          },
          "metadata": {},
          "execution_count": 11
        }
      ]
    },
    {
      "cell_type": "code",
      "source": [
        "x = lambda a,b : a+b\n",
        "print(x(10,33))"
      ],
      "metadata": {
        "colab": {
          "base_uri": "https://localhost:8080/"
        },
        "id": "lYlA4k3YGiRh",
        "outputId": "fbeb0a7e-d6ec-4736-98d5-36746a572223"
      },
      "execution_count": null,
      "outputs": [
        {
          "output_type": "stream",
          "name": "stdout",
          "text": [
            "43\n"
          ]
        }
      ]
    },
    {
      "cell_type": "code",
      "source": [
        "s = ['1', '2', '3', '4']\n",
        "res = map(int, s)\n",
        "print(list(res))"
      ],
      "metadata": {
        "colab": {
          "base_uri": "https://localhost:8080/"
        },
        "id": "Viw0lozaGtrc",
        "outputId": "f1880b23-7339-4bd0-9268-ab00a521ac01"
      },
      "execution_count": null,
      "outputs": [
        {
          "output_type": "stream",
          "name": "stdout",
          "text": [
            "[1, 2, 3, 4]\n"
          ]
        }
      ]
    },
    {
      "cell_type": "code",
      "source": [
        "# Pair with Sum:\n",
        "# Find all pairs in a list whose sum equals a given number."
      ],
      "metadata": {
        "id": "v3sLKoO3R8hO"
      },
      "execution_count": null,
      "outputs": []
    },
    {
      "cell_type": "code",
      "source": [
        "nested_lst = eval(input(\"Enter nested list: \"))\n",
        "flat_list = []\n",
        "for sublist in nested_lst:\n",
        "    if type(sublist)==list:\n",
        "        flat_list.extend(sublist)\n",
        "    else:\n",
        "        flat_list.append(sublist)\n",
        "print(\"Flattened list:\", flat_list)\n",
        "#Higher order function--function which take another function as argument\n",
        "l = [10,20,3,4]\n",
        "r=[]\n",
        "s=[]\n",
        "def mul(item):\n",
        "    return item*2\n",
        "for i in l:\n",
        "    r.append(mul(i))\n",
        "s=list(map(mul,l))\n",
        "print(r)\n",
        "print(s)"
      ],
      "metadata": {
        "id": "dD0EZS4pqs23"
      },
      "execution_count": null,
      "outputs": []
    },
    {
      "cell_type": "code",
      "source": [
        "math.sqrt(16)"
      ],
      "metadata": {
        "colab": {
          "base_uri": "https://localhost:8080/"
        },
        "id": "DEnyatCsq8is",
        "outputId": "ec508c5b-e351-455f-fbe7-7e019619b098"
      },
      "execution_count": null,
      "outputs": [
        {
          "output_type": "execute_result",
          "data": {
            "text/plain": [
              "4.0"
            ]
          },
          "metadata": {},
          "execution_count": 31
        }
      ]
    },
    {
      "cell_type": "code",
      "source": [],
      "metadata": {
        "id": "ZJbjICaoiGOv"
      },
      "execution_count": null,
      "outputs": []
    }
  ]
}